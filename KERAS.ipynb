{
  "nbformat": 4,
  "nbformat_minor": 0,
  "metadata": {
    "colab": {
      "provenance": [],
      "authorship_tag": "ABX9TyP7gKzIlClvOVBhfnXGFQdv",
      "include_colab_link": true
    },
    "kernelspec": {
      "name": "python3",
      "display_name": "Python 3"
    },
    "language_info": {
      "name": "python"
    }
  },
  "cells": [
    {
      "cell_type": "markdown",
      "metadata": {
        "id": "view-in-github",
        "colab_type": "text"
      },
      "source": [
        "<a href=\"https://colab.research.google.com/github/RAGISHIVANAND/DEEP_LEARNING/blob/main/KERAS.ipynb\" target=\"_parent\"><img src=\"https://colab.research.google.com/assets/colab-badge.svg\" alt=\"Open In Colab\"/></a>"
      ]
    },
    {
      "cell_type": "code",
      "execution_count": 6,
      "metadata": {
        "colab": {
          "base_uri": "https://localhost:8080/"
        },
        "id": "5Op1h-rNF8Qb",
        "outputId": "210695b9-c7ef-4315-d335-f782492d647d"
      },
      "outputs": [
        {
          "output_type": "execute_result",
          "data": {
            "text/plain": [
              "(None, 1)"
            ]
          },
          "metadata": {},
          "execution_count": 6
        }
      ],
      "source": [
        "import tensorflow as tf\n",
        "import numpy as np\n",
        "import pandas as pd\n",
        "\n",
        "#create a 'sequential' model and add a Dense layer as the first layer.\n",
        "\n",
        "model = tf.keras.models.Sequential()\n",
        "model.add(tf.keras.Input(shape=(16)))\n",
        "model.add(tf.keras.layers.Dense(16,activation='relu'))\n",
        "\n",
        "#now the model will take as input array of shape (None,16)\n",
        "#and output arraysof shape(None,32)\n",
        "#Note that after the first layer,\n",
        "#you dont need to specify the size of the input any more:\n",
        "\n",
        "model.add(tf.keras.layers.Dense(1))\n",
        "model.output_shape"
      ]
    },
    {
      "cell_type": "code",
      "source": [
        "from keras.models import Sequential\n",
        "from keras.layers import Dense\n",
        "\n",
        "model = Sequential(\n",
        "    [\n",
        "        Dense(5,activation=\"relu\"),\n",
        "        Dense(10,activation=\"relu\"),\n",
        "        Dense(15),\n",
        "    ]\n",
        ")   #no weights to be added here\n",
        "#Here we cannot check for weights\n",
        "#model.weights\n",
        "\n",
        "#Neither we can look at the summary\n",
        "#model.summary()\n",
        "\n",
        "#first we must call the model and\n",
        "#evalute it on test data\n",
        "\n",
        "x=tf.ones((5,20))\n",
        "y=model(x)\n",
        "\n",
        "print(\"Number of weights after calling the model:\",len(model.weights))\n",
        "model.summary()"
      ],
      "metadata": {
        "colab": {
          "base_uri": "https://localhost:8080/"
        },
        "id": "O_rP2ce6F_d4",
        "outputId": "f82d52e1-ef1c-4608-effe-ad532de39fd0"
      },
      "execution_count": 7,
      "outputs": [
        {
          "output_type": "stream",
          "name": "stdout",
          "text": [
            "Number of weights after calling the model: 6\n",
            "Model: \"sequential_5\"\n",
            "_________________________________________________________________\n",
            " Layer (type)                Output Shape              Param #   \n",
            "=================================================================\n",
            " dense_13 (Dense)            (5, 5)                    105       \n",
            "                                                                 \n",
            " dense_14 (Dense)            (5, 10)                   60        \n",
            "                                                                 \n",
            " dense_15 (Dense)            (5, 15)                   165       \n",
            "                                                                 \n",
            "=================================================================\n",
            "Total params: 330\n",
            "Trainable params: 330\n",
            "Non-trainable params: 0\n",
            "_________________________________________________________________\n"
          ]
        }
      ]
    },
    {
      "cell_type": "code",
      "source": [
        "from tensorflow import keras\n",
        "from keras.models import Sequential\n",
        "from keras.layers import Dense,Dropout,Activation\n",
        "from tensorflow.keras.optimizers import SGD\n",
        "import tensorflow.keras.utils as utils\n",
        "\n",
        "\n",
        "\n",
        "\n",
        "#generate dummy data\n",
        "x_train = np.random.random((1000, 20))\n",
        "y_train = utils.to_categorical(np.random.randint(10, size=(1000, 1)), num_classes=10)\n",
        "x_test = np.random.random((100,20))\n",
        "y_test = utils.to_categorical(np.random.randint(10,size=(100,1)),num_classes=10)\n",
        "\n",
        "model = Sequential()\n",
        "\n",
        "#Dense(64) is a fully -connected layer with 64 hidden units\n",
        "#in the first layer,you must specify\n",
        "#the expected input data shape:\n",
        "#here,20-dimensional vectors\n",
        "model.add(Dense(64, activation='relu', input_dim=20))\n",
        "model.add(Dropout(0.5))\n",
        "model.add(Dense(64, activation='relu'))\n",
        "model.add(Dropout(0.5))\n",
        "model.add(Dense(10, activation='softmax'))\n",
        "\n",
        "\n",
        "\n",
        "# Old code\n",
        "#sgd = SGD(learning_rate=0.01, decay=1e-6)\n",
        "\n",
        "# Updated code\n",
        "sgd = SGD(learning_rate=keras.optimizers.schedules.ExponentialDecay(initial_learning_rate=0.01,\n",
        "                                                                    decay_steps=10000,\n",
        "                                                                    decay_rate=0.96))\n",
        "\n",
        "\n",
        "\n",
        "#from tensorflow.keras.optimizers import SGD\n",
        "#from tensorflow.keras.optimizers.schedules import ExponentialDecay\n",
        "\n",
        "#learning_rate = 0.01\n",
        "#decay_rate = 0.96\n",
        "#decay_steps = 10000\n",
        "\n",
        "# #Create the learning rate schedule\n",
        "#lr_schedule = ExponentialDecay(\n",
        "#    initial_learning_rate=learning_rate,\n",
        "#    decay_rate=decay_rate,\n",
        "#    decay_steps=decay_steps\n",
        "#)\n",
        "\n",
        "# #Create the SGD optimizer with the learning rate schedule\n",
        "#sgd = SGD(learning_rate=lr_schedule)\n",
        "\n",
        "\n",
        "\n",
        "\n",
        "\n",
        "\n",
        "\n",
        "\n",
        "\n",
        "model.compile(loss='categorical_crossentropy',\n",
        "              optimizer=sgd,\n",
        "              metrics=['accuracy'])\n",
        "\n",
        "model.fit(x_train, y_train,\n",
        "          epochs=20,\n",
        "          batch_size=128)\n",
        "\n",
        "\n",
        "\n",
        "score = model.evaluate(x_test, y_test, batch_size=128)\n"
      ],
      "metadata": {
        "colab": {
          "base_uri": "https://localhost:8080/"
        },
        "id": "QGB8_0y1GLrF",
        "outputId": "cc2b2bf5-e0c5-4e79-d3bf-c76090a60b02"
      },
      "execution_count": 8,
      "outputs": [
        {
          "output_type": "stream",
          "name": "stdout",
          "text": [
            "Epoch 1/20\n",
            "8/8 [==============================] - 1s 3ms/step - loss: 2.4178 - accuracy: 0.1140\n",
            "Epoch 2/20\n",
            "8/8 [==============================] - 0s 3ms/step - loss: 2.4118 - accuracy: 0.0920\n",
            "Epoch 3/20\n",
            "8/8 [==============================] - 0s 3ms/step - loss: 2.4141 - accuracy: 0.0930\n",
            "Epoch 4/20\n",
            "8/8 [==============================] - 0s 3ms/step - loss: 2.3838 - accuracy: 0.1060\n",
            "Epoch 5/20\n",
            "8/8 [==============================] - 0s 3ms/step - loss: 2.3977 - accuracy: 0.0940\n",
            "Epoch 6/20\n",
            "8/8 [==============================] - 0s 4ms/step - loss: 2.3979 - accuracy: 0.0950\n",
            "Epoch 7/20\n",
            "8/8 [==============================] - 0s 4ms/step - loss: 2.3804 - accuracy: 0.1090\n",
            "Epoch 8/20\n",
            "8/8 [==============================] - 0s 4ms/step - loss: 2.3686 - accuracy: 0.0940\n",
            "Epoch 9/20\n",
            "8/8 [==============================] - 0s 3ms/step - loss: 2.3515 - accuracy: 0.0990\n",
            "Epoch 10/20\n",
            "8/8 [==============================] - 0s 3ms/step - loss: 2.3460 - accuracy: 0.0940\n",
            "Epoch 11/20\n",
            "8/8 [==============================] - 0s 3ms/step - loss: 2.3612 - accuracy: 0.1070\n",
            "Epoch 12/20\n",
            "8/8 [==============================] - 0s 3ms/step - loss: 2.3517 - accuracy: 0.0940\n",
            "Epoch 13/20\n",
            "8/8 [==============================] - 0s 3ms/step - loss: 2.3555 - accuracy: 0.1110\n",
            "Epoch 14/20\n",
            "8/8 [==============================] - 0s 4ms/step - loss: 2.3637 - accuracy: 0.0990\n",
            "Epoch 15/20\n",
            "8/8 [==============================] - 0s 3ms/step - loss: 2.3555 - accuracy: 0.0880\n",
            "Epoch 16/20\n",
            "8/8 [==============================] - 0s 3ms/step - loss: 2.3394 - accuracy: 0.1060\n",
            "Epoch 17/20\n",
            "8/8 [==============================] - 0s 3ms/step - loss: 2.3376 - accuracy: 0.1010\n",
            "Epoch 18/20\n",
            "8/8 [==============================] - 0s 3ms/step - loss: 2.3477 - accuracy: 0.0910\n",
            "Epoch 19/20\n",
            "8/8 [==============================] - 0s 3ms/step - loss: 2.3395 - accuracy: 0.1140\n",
            "Epoch 20/20\n",
            "8/8 [==============================] - 0s 3ms/step - loss: 2.3361 - accuracy: 0.1180\n",
            "1/1 [==============================] - 0s 162ms/step - loss: 2.3091 - accuracy: 0.0500\n"
          ]
        }
      ]
    },
    {
      "cell_type": "code",
      "source": [
        "import numpy as np\n",
        "from keras.models import Sequential\n",
        "from keras.layers import Dense,Dropout\n",
        "\n",
        "#Generate dummy data\n",
        "x_train=np.random.random((1000,20))\n",
        "y_train=np.random.randint(2,size=(1000,1))\n",
        "x_test=np.random.random((100,20))\n",
        "y_test=np.random.randint(2,size=(100,1))\n",
        "\n",
        "model=Sequential()\n",
        "model.add(Dense(64,input_dim=20,activation='relu'))\n",
        "model.add(Dropout(0.5))\n",
        "model.add(Dense(64,activation='relu'))\n",
        "model.add(Dense(1,activation='sigmoid'))\n",
        "\n",
        "model.compile(loss='binary_crossentropy',\n",
        "              optimizer='rmsprop',\n",
        "              metrics=['accuracy'])\n",
        "\n",
        "model.fit(x_train,y_train,\n",
        "          epochs=20,\n",
        "          batch_size=128)\n",
        "\n",
        "score = model.evaluate(x_test,y_test,batch_size=128)"
      ],
      "metadata": {
        "id": "GEEfrh1bGMgw",
        "colab": {
          "base_uri": "https://localhost:8080/"
        },
        "outputId": "8bc6dc06-52fc-42e6-905d-f4dd1a51f3c1"
      },
      "execution_count": 10,
      "outputs": [
        {
          "output_type": "stream",
          "name": "stdout",
          "text": [
            "Epoch 1/20\n",
            "8/8 [==============================] - 1s 3ms/step - loss: 0.7119 - accuracy: 0.4720\n",
            "Epoch 2/20\n",
            "8/8 [==============================] - 0s 3ms/step - loss: 0.7003 - accuracy: 0.5090\n",
            "Epoch 3/20\n",
            "8/8 [==============================] - 0s 3ms/step - loss: 0.6963 - accuracy: 0.5010\n",
            "Epoch 4/20\n",
            "8/8 [==============================] - 0s 3ms/step - loss: 0.6948 - accuracy: 0.5150\n",
            "Epoch 5/20\n",
            "8/8 [==============================] - 0s 3ms/step - loss: 0.6942 - accuracy: 0.5030\n",
            "Epoch 6/20\n",
            "8/8 [==============================] - 0s 3ms/step - loss: 0.6992 - accuracy: 0.4710\n",
            "Epoch 7/20\n",
            "8/8 [==============================] - 0s 3ms/step - loss: 0.6923 - accuracy: 0.5150\n",
            "Epoch 8/20\n",
            "8/8 [==============================] - 0s 3ms/step - loss: 0.6926 - accuracy: 0.5330\n",
            "Epoch 9/20\n",
            "8/8 [==============================] - 0s 3ms/step - loss: 0.6970 - accuracy: 0.5010\n",
            "Epoch 10/20\n",
            "8/8 [==============================] - 0s 3ms/step - loss: 0.6933 - accuracy: 0.5070\n",
            "Epoch 11/20\n",
            "8/8 [==============================] - 0s 3ms/step - loss: 0.6925 - accuracy: 0.5210\n",
            "Epoch 12/20\n",
            "8/8 [==============================] - 0s 3ms/step - loss: 0.6917 - accuracy: 0.5320\n",
            "Epoch 13/20\n",
            "8/8 [==============================] - 0s 3ms/step - loss: 0.6898 - accuracy: 0.5260\n",
            "Epoch 14/20\n",
            "8/8 [==============================] - 0s 3ms/step - loss: 0.6899 - accuracy: 0.5440\n",
            "Epoch 15/20\n",
            "8/8 [==============================] - 0s 3ms/step - loss: 0.6898 - accuracy: 0.5450\n",
            "Epoch 16/20\n",
            "8/8 [==============================] - 0s 3ms/step - loss: 0.6945 - accuracy: 0.5130\n",
            "Epoch 17/20\n",
            "8/8 [==============================] - 0s 3ms/step - loss: 0.6950 - accuracy: 0.5150\n",
            "Epoch 18/20\n",
            "8/8 [==============================] - 0s 3ms/step - loss: 0.6886 - accuracy: 0.5320\n",
            "Epoch 19/20\n",
            "8/8 [==============================] - 0s 4ms/step - loss: 0.6911 - accuracy: 0.5230\n",
            "Epoch 20/20\n",
            "8/8 [==============================] - 0s 5ms/step - loss: 0.6915 - accuracy: 0.5420\n",
            "1/1 [==============================] - 0s 143ms/step - loss: 0.6834 - accuracy: 0.5800\n"
          ]
        }
      ]
    },
    {
      "cell_type": "code",
      "source": [],
      "metadata": {
        "id": "hmg0iH9Z8M7o"
      },
      "execution_count": null,
      "outputs": []
    }
  ]
}