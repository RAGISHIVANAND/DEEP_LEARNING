{
  "nbformat": 4,
  "nbformat_minor": 0,
  "metadata": {
    "colab": {
      "provenance": [],
      "authorship_tag": "ABX9TyPLEAIzDwWcSh1JYUgWQmAE",
      "include_colab_link": true
    },
    "kernelspec": {
      "name": "python3",
      "display_name": "Python 3"
    },
    "language_info": {
      "name": "python"
    }
  },
  "cells": [
    {
      "cell_type": "markdown",
      "metadata": {
        "id": "view-in-github",
        "colab_type": "text"
      },
      "source": [
        "<a href=\"https://colab.research.google.com/github/RAGISHIVANAND/DEEP_LEARNING/blob/main/Tensorflow_Examples.ipynb\" target=\"_parent\"><img src=\"https://colab.research.google.com/assets/colab-badge.svg\" alt=\"Open In Colab\"/></a>"
      ]
    },
    {
      "cell_type": "code",
      "execution_count": null,
      "metadata": {
        "colab": {
          "base_uri": "https://localhost:8080/"
        },
        "id": "y6Zjh5dQjP9d",
        "outputId": "26833d77-20c4-4fec-c545-7717d81b036c"
      },
      "outputs": [
        {
          "output_type": "stream",
          "name": "stdout",
          "text": [
            "Tensor: tf.Tensor(b'hello,TensorFlow', shape=(), dtype=string)\n",
            "value: b'hello,TensorFlow'\n"
          ]
        }
      ],
      "source": [
        "import tensorflow as tf\n",
        "helloworld = tf.constant(\"hello,TensorFlow\")\n",
        "print(\"Tensor:\",helloworld)\n",
        "print(\"value:\",helloworld.numpy())\n"
      ]
    },
    {
      "cell_type": "code",
      "source": [
        "a = tf.ones([2,3])\n",
        "print(a)\n",
        "a = tf.Variable(a)\n",
        "a[0,0].assign(10)\n",
        "b=a.read_value()\n",
        "print(b)"
      ],
      "metadata": {
        "colab": {
          "base_uri": "https://localhost:8080/"
        },
        "id": "0TzeWeLJ2L__",
        "outputId": "2d04c011-2a6d-46e3-9b69-7ba3669da234"
      },
      "execution_count": null,
      "outputs": [
        {
          "output_type": "stream",
          "name": "stdout",
          "text": [
            "tf.Tensor(\n",
            "[[1. 1. 1.]\n",
            " [1. 1. 1.]], shape=(2, 3), dtype=float32)\n",
            "tf.Tensor(\n",
            "[[10.  1.  1.]\n",
            " [ 1.  1.  1.]], shape=(2, 3), dtype=float32)\n"
          ]
        }
      ]
    },
    {
      "cell_type": "code",
      "source": [
        "###===ADD,MULTIPLY,DIV.ETC===#\n",
        "a=tf.constant(2)\n",
        "b=tf.constant(3)\n",
        "print(\"a+b:\",a.numpy()+b.numpy())\n",
        "print(\"Addition with constants:\",a+b)\n",
        "print(\"Addition with constants:\",tf.add(a,b))\n",
        "print(\"a*b:\",a.numpy()*b.numpy())\n",
        "print(\"Multiplication with constants:\",a*b)\n",
        "print(\"Multiplication with constants:\",tf.multiply(a,b))\n",
        "matrix1 = tf.constant([[3.,3.]])\n",
        "\n",
        "\n",
        "\n",
        "\n",
        "##===create another constant that produces a 2×1 matrix\n",
        "matrix2 = tf.constant([[2.],[2.]])\n",
        "product =tf.matmul(matrix1,matrix2)\n",
        "print(\"Multiplication with matrixes:\",product)\n",
        "print(\"broadcast matrix in Multiplication:\",matrix1*matrix2)\n",
        "\n",
        "\n",
        "##==cast operations==#\n",
        "a = tf.convert_to_tensor(2.)\n",
        "b= tf.cast (a,tf.int32)\n",
        "print(a,b)\n",
        "\n",
        "##==shape operations==##\n",
        "a = tf.ones([2,3])\n",
        "print(a.shape[0],a.shape[1]) #2,3\n",
        "shape = tf.shape(a)          #a tensor\n",
        "print(shape[0],shape[1])"
      ],
      "metadata": {
        "id": "Peh8-5sv9x_v",
        "colab": {
          "base_uri": "https://localhost:8080/"
        },
        "outputId": "770c40df-8c59-49e9-e552-42deba290674"
      },
      "execution_count": null,
      "outputs": [
        {
          "output_type": "stream",
          "name": "stdout",
          "text": [
            "a+b: 5\n",
            "Addition with constants: tf.Tensor(5, shape=(), dtype=int32)\n",
            "Addition with constants: tf.Tensor(5, shape=(), dtype=int32)\n",
            "a*b: 6\n",
            "Multiplication with constants: tf.Tensor(6, shape=(), dtype=int32)\n",
            "Multiplication with constants: tf.Tensor(6, shape=(), dtype=int32)\n",
            "Multiplication with matrixes: tf.Tensor([[12.]], shape=(1, 1), dtype=float32)\n",
            "broadcast matrix in Multiplication: tf.Tensor(\n",
            "[[6. 6.]\n",
            " [6. 6.]], shape=(2, 2), dtype=float32)\n",
            "tf.Tensor(2.0, shape=(), dtype=float32) tf.Tensor(2, shape=(), dtype=int32)\n",
            "2 3\n",
            "tf.Tensor(2, shape=(), dtype=int32) tf.Tensor(3, shape=(), dtype=int32)\n"
          ]
        }
      ]
    },
    {
      "cell_type": "code",
      "source": [],
      "metadata": {
        "id": "ODY4YsEyHLiv"
      },
      "execution_count": null,
      "outputs": []
    }
  ]
}