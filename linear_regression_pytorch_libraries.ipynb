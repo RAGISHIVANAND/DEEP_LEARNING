{
  "nbformat": 4,
  "nbformat_minor": 0,
  "metadata": {
    "colab": {
      "provenance": [],
      "authorship_tag": "ABX9TyOuqtDm2CZfY3rzMY4T2PS0",
      "include_colab_link": true
    },
    "kernelspec": {
      "name": "python3",
      "display_name": "Python 3"
    },
    "language_info": {
      "name": "python"
    }
  },
  "cells": [
    {
      "cell_type": "markdown",
      "metadata": {
        "id": "view-in-github",
        "colab_type": "text"
      },
      "source": [
        "<a href=\"https://colab.research.google.com/github/RAGISHIVANAND/DEEP_LEARNING/blob/main/linear_regression_pytorch_libraries.ipynb\" target=\"_parent\"><img src=\"https://colab.research.google.com/assets/colab-badge.svg\" alt=\"Open In Colab\"/></a>"
      ]
    },
    {
      "cell_type": "markdown",
      "source": [
        "# ***Importing the libraries***"
      ],
      "metadata": {
        "id": "h_st_nE08oit"
      }
    },
    {
      "cell_type": "code",
      "execution_count": 6,
      "metadata": {
        "id": "HkL7_wKyHQS7"
      },
      "outputs": [],
      "source": [
        "import torch\n",
        "import torch.nn as nn\n",
        "import numpy as np\n",
        "import matplotlib.pyplot as plt"
      ]
    },
    {
      "cell_type": "markdown",
      "source": [
        "# ***Taking the hyperparameters***"
      ],
      "metadata": {
        "id": "jA0GHMw09DGj"
      }
    },
    {
      "cell_type": "code",
      "source": [
        "#Hyper_parameter\n",
        "input_size = 1\n",
        "output_size = 1 \n",
        "num_epochs = 80\n",
        "learning_rate = 0.001"
      ],
      "metadata": {
        "id": "WET9xl8FKlGg"
      },
      "execution_count": 7,
      "outputs": []
    },
    {
      "cell_type": "markdown",
      "source": [
        "# ***Now taking the training set then  i am taking  some random numbers***\n",
        "# ***of using the numpy array***"
      ],
      "metadata": {
        "id": "_FBqz67V9U3j"
      }
    },
    {
      "cell_type": "code",
      "source": [
        "x_train=np.array([[3.3],[4.4],[5.5],[6.71],[6.93],[4.168],\n",
        "                  [9.779],[6.182],[7.59],[2.167],[7.042],\n",
        "                  [10.791],[5.313],[7.997],[3.1]],dtype=np.float32)\n",
        "y_train=np.array([[1.7],[2.76],[2.09],[3.19],[1.694],[1.573],\n",
        "                  [3.366],[2.596],[2.53],[1.221],[2.827],\n",
        "                  [3.465],[1.65],[2.904],[1.3]],dtype=np.float32)"
      ],
      "metadata": {
        "id": "ADLjTC3LNjMq"
      },
      "execution_count": 8,
      "outputs": []
    },
    {
      "cell_type": "markdown",
      "source": [
        "# ***Creating  a model***"
      ],
      "metadata": {
        "id": "fWMJ1HHa-Qli"
      }
    },
    {
      "cell_type": "code",
      "source": [
        "model = nn.Linear(input_size,output_size)"
      ],
      "metadata": {
        "id": "Nk46Z957SpnG"
      },
      "execution_count": 16,
      "outputs": []
    },
    {
      "cell_type": "markdown",
      "source": [
        "# ***Creating a loss function and optimizer***"
      ],
      "metadata": {
        "id": "G4syLcYh_CTp"
      }
    },
    {
      "cell_type": "code",
      "source": [
        "#loss and optimizer\n",
        "criterion = nn.MSELoss()\n",
        "optimizer=torch.optim.SGD(model.parameters(),lr=learning_rate)"
      ],
      "metadata": {
        "id": "XABTJinbUOu7"
      },
      "execution_count": 19,
      "outputs": []
    },
    {
      "cell_type": "markdown",
      "source": [
        "# ***Converting into torch tensor ***"
      ],
      "metadata": {
        "id": "HhFdcitN_UhI"
      }
    },
    {
      "cell_type": "code",
      "source": [
        "#Train the model\n",
        "for epoch in range(num_epochs):\n",
        "    #convert numpy arrays to torch tensors\n",
        "    inputs = torch.from_numpy(x_train)\n",
        "    targets=torch.from_numpy(y_train)\n",
        "\n",
        "    #Forward pass\n",
        "    outputs = model(inputs)\n",
        "    loss = criterion(outputs,targets)\n",
        "\n",
        "    #Backward and optimize\n",
        "    optimizer.zero_grad()\n",
        "    loss.backward()\n",
        "    optimizer.step()\n",
        "\n",
        "    if (epoch+1) % 5 == 0:\n",
        "        print ('Epoch [{}/{}],Loss:{:.4f}'.format(epoch+1,num_epochs,loss.item()))"
      ],
      "metadata": {
        "colab": {
          "base_uri": "https://localhost:8080/"
        },
        "id": "T4Wuv9nAhVKw",
        "outputId": "46b31ef1-0d66-4e3c-a26d-1b3b431cc895"
      },
      "execution_count": 20,
      "outputs": [
        {
          "output_type": "stream",
          "name": "stdout",
          "text": [
            "Epoch [5/80],Loss:1.5737\n",
            "Epoch [10/80],Loss:0.7631\n",
            "Epoch [15/80],Loss:0.4347\n",
            "Epoch [20/80],Loss:0.3015\n",
            "Epoch [25/80],Loss:0.2475\n",
            "Epoch [30/80],Loss:0.2256\n",
            "Epoch [35/80],Loss:0.2166\n",
            "Epoch [40/80],Loss:0.2130\n",
            "Epoch [45/80],Loss:0.2114\n",
            "Epoch [50/80],Loss:0.2107\n",
            "Epoch [55/80],Loss:0.2104\n",
            "Epoch [60/80],Loss:0.2102\n",
            "Epoch [65/80],Loss:0.2100\n",
            "Epoch [70/80],Loss:0.2099\n",
            "Epoch [75/80],Loss:0.2098\n",
            "Epoch [80/80],Loss:0.2097\n"
          ]
        }
      ]
    },
    {
      "cell_type": "markdown",
      "source": [
        "# ***Now plotting the graph***"
      ],
      "metadata": {
        "id": "7-aGOSGZ_s0G"
      }
    },
    {
      "cell_type": "code",
      "source": [
        "predicted = model(torch.from_numpy(x_train)).detach().numpy()\n",
        "plt.plot(x_train,y_train,'ro',label='Original data')\n",
        "plt.plot(x_train,predicted,label='Fitted line')\n",
        "plt.legend()\n",
        "plt.show()"
      ],
      "metadata": {
        "id": "tp6QFXsxqsmY",
        "colab": {
          "base_uri": "https://localhost:8080/",
          "height": 434
        },
        "outputId": "255cb606-2757-452d-ae51-b2fc60082b32"
      },
      "execution_count": 23,
      "outputs": [
        {
          "output_type": "display_data",
          "data": {
            "text/plain": [
              "<Figure size 640x480 with 1 Axes>"
            ],
            "image/png": "[encoded data removed]"
          },
          "metadata": {}
        }
      ]
    },
    {
      "cell_type": "code",
      "source": [],
      "metadata": {
        "id": "wAxROQm3zr_u"
      },
      "execution_count": null,
      "outputs": []
    }
  ]
}