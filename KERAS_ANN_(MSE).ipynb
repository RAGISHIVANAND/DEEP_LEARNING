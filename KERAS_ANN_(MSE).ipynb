{
  "nbformat": 4,
  "nbformat_minor": 0,
  "metadata": {
    "colab": {
      "provenance": [],
      "authorship_tag": "ABX9TyPaFNyjjHW07Fsdv8I2+86J",
      "include_colab_link": true
    },
    "kernelspec": {
      "name": "python3",
      "display_name": "Python 3"
    },
    "language_info": {
      "name": "python"
    }
  },
  "cells": [
    {
      "cell_type": "markdown",
      "metadata": {
        "id": "view-in-github",
        "colab_type": "text"
      },
      "source": [
        "<a href=\"https://colab.research.google.com/github/RAGISHIVANAND/DEEP_LEARNING/blob/main/KERAS_ANN_(MSE).ipynb\" target=\"_parent\"><img src=\"https://colab.research.google.com/assets/colab-badge.svg\" alt=\"Open In Colab\"/></a>"
      ]
    },
    {
      "cell_type": "markdown",
      "source": [
        "Importing the necessary libraries"
      ],
      "metadata": {
        "id": "P55h_yY2oIgf"
      }
    },
    {
      "cell_type": "code",
      "execution_count": 8,
      "metadata": {
        "id": "fTlDj2VahyfP"
      },
      "outputs": [],
      "source": [
        "from keras.datasets import boston_housing\n",
        "from keras.models import Sequential\n",
        "from keras.layers import Activation,Dense\n",
        "from tensorflow.keras.optimizers import SGD"
      ]
    },
    {
      "cell_type": "markdown",
      "source": [
        "# Load the Boston Housing dataset\n",
        "Dividing the data into a test and trained data"
      ],
      "metadata": {
        "id": "fdz3i3caoNHb"
      }
    },
    {
      "cell_type": "code",
      "source": [
        "(x_train,y_train),(x_test,y_test)=boston_housing.load_data()"
      ],
      "metadata": {
        "id": "Jncr59bplGuB"
      },
      "execution_count": 9,
      "outputs": []
    },
    {
      "cell_type": "code",
      "source": [
        "model = Sequential()\n",
        "\n",
        "#keras model with two hidden layer with 10 neurons each\n",
        "\n",
        "\n",
        "# Input layer\n",
        "model.add(Dense(10,input_shape=(13,))) #Input layer => input_shape should be explicitly designed\n",
        "model.add(Activation('sigmoid'))\n",
        "\n",
        "# Hidden layer 1\n",
        "model.add(Dense(10))   #hidden layer=> only output dimension should be designed\n",
        "model.add(Activation('sigmoid'))\n",
        "\n",
        "# Hidden layer 2\n",
        "model.add(Dense(10)) #hidden layer => only output dimension should be designated\n",
        "model.add(Activation('sigmoid'))\n",
        "\n",
        "# Output layer\n",
        "model.add(Dense(1))"
      ],
      "metadata": {
        "id": "3PeDMWkinx8Y"
      },
      "execution_count": 10,
      "outputs": []
    },
    {
      "cell_type": "markdown",
      "source": [],
      "metadata": {
        "id": "qV9uwYH75I4j"
      }
    },
    {
      "cell_type": "code",
      "source": [
        "# Compile the model with SGD optimizer and learning rate of 0.01\n",
        "sgd=SGD(lr=0.01)  #stochastic gradient descent optimizer\n",
        "\n",
        "# Compile the model with mean squared error loss and mean squared error metric\n",
        "model.compile(optimizer=sgd,loss='mean_squared_error',metrics=['mse']) #for regression problems mean squared error (MSE) is often employed\n",
        "\n",
        "# Train the model\n",
        "model.fit(x_train,y_train,batch_size=50,epochs=100,verbose=1)"
      ],
      "metadata": {
        "colab": {
          "base_uri": "https://localhost:8080/"
        },
        "id": "m_osLgiFz7_6",
        "outputId": "c0896358-31e0-47be-90a8-d4d0e2619956"
      },
      "execution_count": 11,
      "outputs": [
        {
          "output_type": "stream",
          "name": "stderr",
          "text": [
            "WARNING:absl:`lr` is deprecated in Keras optimizer, please use `learning_rate` or use the legacy optimizer, e.g.,tf.keras.optimizers.legacy.SGD.\n"
          ]
        },
        {
          "output_type": "stream",
          "name": "stdout",
          "text": [
            "Epoch 1/100\n",
            "9/9 [==============================] - 1s 2ms/step - loss: 308.5989 - mse: 308.5989\n",
            "Epoch 2/100\n",
            "9/9 [==============================] - 0s 3ms/step - loss: 90.8411 - mse: 90.8411\n",
            "Epoch 3/100\n",
            "9/9 [==============================] - 0s 2ms/step - loss: 83.8110 - mse: 83.8110\n",
            "Epoch 4/100\n",
            "9/9 [==============================] - 0s 2ms/step - loss: 83.6279 - mse: 83.6279\n",
            "Epoch 5/100\n",
            "9/9 [==============================] - 0s 2ms/step - loss: 82.8048 - mse: 82.8048\n",
            "Epoch 6/100\n",
            "9/9 [==============================] - 0s 2ms/step - loss: 82.7662 - mse: 82.7662\n",
            "Epoch 7/100\n",
            "9/9 [==============================] - 0s 3ms/step - loss: 81.2199 - mse: 81.2199\n",
            "Epoch 8/100\n",
            "9/9 [==============================] - 0s 2ms/step - loss: 80.8216 - mse: 80.8216\n",
            "Epoch 9/100\n",
            "9/9 [==============================] - 0s 3ms/step - loss: 79.8158 - mse: 79.8158\n",
            "Epoch 10/100\n",
            "9/9 [==============================] - 0s 3ms/step - loss: 81.4715 - mse: 81.4715\n",
            "Epoch 11/100\n",
            "9/9 [==============================] - 0s 3ms/step - loss: 82.0122 - mse: 82.0122\n",
            "Epoch 12/100\n",
            "9/9 [==============================] - 0s 3ms/step - loss: 83.9181 - mse: 83.9181\n",
            "Epoch 13/100\n",
            "9/9 [==============================] - 0s 2ms/step - loss: 85.7490 - mse: 85.7490\n",
            "Epoch 14/100\n",
            "9/9 [==============================] - 0s 3ms/step - loss: 85.9227 - mse: 85.9227\n",
            "Epoch 15/100\n",
            "9/9 [==============================] - 0s 3ms/step - loss: 84.8595 - mse: 84.8595\n",
            "Epoch 16/100\n",
            "9/9 [==============================] - 0s 2ms/step - loss: 86.2218 - mse: 86.2218\n",
            "Epoch 17/100\n",
            "9/9 [==============================] - 0s 2ms/step - loss: 85.0343 - mse: 85.0343\n",
            "Epoch 18/100\n",
            "9/9 [==============================] - 0s 3ms/step - loss: 84.7396 - mse: 84.7396\n",
            "Epoch 19/100\n",
            "9/9 [==============================] - 0s 3ms/step - loss: 85.6221 - mse: 85.6221\n",
            "Epoch 20/100\n",
            "9/9 [==============================] - 0s 2ms/step - loss: 86.1429 - mse: 86.1429\n",
            "Epoch 21/100\n",
            "9/9 [==============================] - 0s 3ms/step - loss: 85.3255 - mse: 85.3255\n",
            "Epoch 22/100\n",
            "9/9 [==============================] - 0s 3ms/step - loss: 85.0718 - mse: 85.0718\n",
            "Epoch 23/100\n",
            "9/9 [==============================] - 0s 2ms/step - loss: 85.4379 - mse: 85.4379\n",
            "Epoch 24/100\n",
            "9/9 [==============================] - 0s 2ms/step - loss: 85.6935 - mse: 85.6935\n",
            "Epoch 25/100\n",
            "9/9 [==============================] - 0s 2ms/step - loss: 85.4547 - mse: 85.4547\n",
            "Epoch 26/100\n",
            "9/9 [==============================] - 0s 3ms/step - loss: 85.1074 - mse: 85.1074\n",
            "Epoch 27/100\n",
            "9/9 [==============================] - 0s 3ms/step - loss: 84.9464 - mse: 84.9464\n",
            "Epoch 28/100\n",
            "9/9 [==============================] - 0s 3ms/step - loss: 85.4276 - mse: 85.4276\n",
            "Epoch 29/100\n",
            "9/9 [==============================] - 0s 2ms/step - loss: 86.9649 - mse: 86.9649\n",
            "Epoch 30/100\n",
            "9/9 [==============================] - 0s 3ms/step - loss: 84.8142 - mse: 84.8142\n",
            "Epoch 31/100\n",
            "9/9 [==============================] - 0s 3ms/step - loss: 84.8521 - mse: 84.8521\n",
            "Epoch 32/100\n",
            "9/9 [==============================] - 0s 3ms/step - loss: 85.3684 - mse: 85.3684\n",
            "Epoch 33/100\n",
            "9/9 [==============================] - 0s 3ms/step - loss: 85.8071 - mse: 85.8071\n",
            "Epoch 34/100\n",
            "9/9 [==============================] - 0s 3ms/step - loss: 85.0724 - mse: 85.0724\n",
            "Epoch 35/100\n",
            "9/9 [==============================] - 0s 2ms/step - loss: 85.1277 - mse: 85.1277\n",
            "Epoch 36/100\n",
            "9/9 [==============================] - 0s 3ms/step - loss: 84.8872 - mse: 84.8872\n",
            "Epoch 37/100\n",
            "9/9 [==============================] - 0s 2ms/step - loss: 84.9239 - mse: 84.9239\n",
            "Epoch 38/100\n",
            "9/9 [==============================] - 0s 3ms/step - loss: 85.3192 - mse: 85.3192\n",
            "Epoch 39/100\n",
            "9/9 [==============================] - 0s 3ms/step - loss: 85.0675 - mse: 85.0675\n",
            "Epoch 40/100\n",
            "9/9 [==============================] - 0s 2ms/step - loss: 85.6178 - mse: 85.6178\n",
            "Epoch 41/100\n",
            "9/9 [==============================] - 0s 3ms/step - loss: 84.8977 - mse: 84.8977\n",
            "Epoch 42/100\n",
            "9/9 [==============================] - 0s 3ms/step - loss: 85.3137 - mse: 85.3137\n",
            "Epoch 43/100\n",
            "9/9 [==============================] - 0s 3ms/step - loss: 85.2274 - mse: 85.2274\n",
            "Epoch 44/100\n",
            "9/9 [==============================] - 0s 3ms/step - loss: 85.3921 - mse: 85.3921\n",
            "Epoch 45/100\n",
            "9/9 [==============================] - 0s 3ms/step - loss: 85.7607 - mse: 85.7607\n",
            "Epoch 46/100\n",
            "9/9 [==============================] - 0s 3ms/step - loss: 84.7984 - mse: 84.7984\n",
            "Epoch 47/100\n",
            "9/9 [==============================] - 0s 2ms/step - loss: 84.9010 - mse: 84.9010\n",
            "Epoch 48/100\n",
            "9/9 [==============================] - 0s 4ms/step - loss: 84.9885 - mse: 84.9885\n",
            "Epoch 49/100\n",
            "9/9 [==============================] - 0s 4ms/step - loss: 84.6650 - mse: 84.6650\n",
            "Epoch 50/100\n",
            "9/9 [==============================] - 0s 2ms/step - loss: 85.8133 - mse: 85.8133\n",
            "Epoch 51/100\n",
            "9/9 [==============================] - 0s 3ms/step - loss: 86.7531 - mse: 86.7531\n",
            "Epoch 52/100\n",
            "9/9 [==============================] - 0s 2ms/step - loss: 84.7962 - mse: 84.7962\n",
            "Epoch 53/100\n",
            "9/9 [==============================] - 0s 3ms/step - loss: 85.1905 - mse: 85.1905\n",
            "Epoch 54/100\n",
            "9/9 [==============================] - 0s 2ms/step - loss: 85.4627 - mse: 85.4627\n",
            "Epoch 55/100\n",
            "9/9 [==============================] - 0s 3ms/step - loss: 85.1841 - mse: 85.1841\n",
            "Epoch 56/100\n",
            "9/9 [==============================] - 0s 3ms/step - loss: 85.6753 - mse: 85.6753\n",
            "Epoch 57/100\n",
            "9/9 [==============================] - 0s 3ms/step - loss: 85.4098 - mse: 85.4098\n",
            "Epoch 58/100\n",
            "9/9 [==============================] - 0s 2ms/step - loss: 85.0038 - mse: 85.0038\n",
            "Epoch 59/100\n",
            "9/9 [==============================] - 0s 3ms/step - loss: 85.3863 - mse: 85.3863\n",
            "Epoch 60/100\n",
            "9/9 [==============================] - 0s 3ms/step - loss: 84.9184 - mse: 84.9184\n",
            "Epoch 61/100\n",
            "9/9 [==============================] - 0s 2ms/step - loss: 85.4532 - mse: 85.4532\n",
            "Epoch 62/100\n",
            "9/9 [==============================] - 0s 3ms/step - loss: 84.9707 - mse: 84.9707\n",
            "Epoch 63/100\n",
            "9/9 [==============================] - 0s 3ms/step - loss: 85.6482 - mse: 85.6482\n",
            "Epoch 64/100\n",
            "9/9 [==============================] - 0s 3ms/step - loss: 84.8572 - mse: 84.8572\n",
            "Epoch 65/100\n",
            "9/9 [==============================] - 0s 2ms/step - loss: 86.1285 - mse: 86.1285\n",
            "Epoch 66/100\n",
            "9/9 [==============================] - 0s 2ms/step - loss: 84.8507 - mse: 84.8507\n",
            "Epoch 67/100\n",
            "9/9 [==============================] - 0s 2ms/step - loss: 86.3271 - mse: 86.3271\n",
            "Epoch 68/100\n",
            "9/9 [==============================] - 0s 3ms/step - loss: 85.8222 - mse: 85.8222\n",
            "Epoch 69/100\n",
            "9/9 [==============================] - 0s 3ms/step - loss: 85.0543 - mse: 85.0543\n",
            "Epoch 70/100\n",
            "9/9 [==============================] - 0s 3ms/step - loss: 85.0362 - mse: 85.0362\n",
            "Epoch 71/100\n",
            "9/9 [==============================] - 0s 2ms/step - loss: 85.5540 - mse: 85.5540\n",
            "Epoch 72/100\n",
            "9/9 [==============================] - 0s 3ms/step - loss: 84.9416 - mse: 84.9416\n",
            "Epoch 73/100\n",
            "9/9 [==============================] - 0s 3ms/step - loss: 84.8077 - mse: 84.8077\n",
            "Epoch 74/100\n",
            "9/9 [==============================] - 0s 2ms/step - loss: 84.7089 - mse: 84.7089\n",
            "Epoch 75/100\n",
            "9/9 [==============================] - 0s 2ms/step - loss: 84.9461 - mse: 84.9461\n",
            "Epoch 76/100\n",
            "9/9 [==============================] - 0s 3ms/step - loss: 86.0928 - mse: 86.0928\n",
            "Epoch 77/100\n",
            "9/9 [==============================] - 0s 3ms/step - loss: 85.0768 - mse: 85.0768\n",
            "Epoch 78/100\n",
            "9/9 [==============================] - 0s 3ms/step - loss: 85.1275 - mse: 85.1275\n",
            "Epoch 79/100\n",
            "9/9 [==============================] - 0s 3ms/step - loss: 85.7199 - mse: 85.7199\n",
            "Epoch 80/100\n",
            "9/9 [==============================] - 0s 2ms/step - loss: 85.1362 - mse: 85.1362\n",
            "Epoch 81/100\n",
            "9/9 [==============================] - 0s 3ms/step - loss: 84.8456 - mse: 84.8456\n",
            "Epoch 82/100\n",
            "9/9 [==============================] - 0s 2ms/step - loss: 85.4711 - mse: 85.4711\n",
            "Epoch 83/100\n",
            "9/9 [==============================] - 0s 2ms/step - loss: 84.6936 - mse: 84.6936\n",
            "Epoch 84/100\n",
            "9/9 [==============================] - 0s 3ms/step - loss: 84.8762 - mse: 84.8762\n",
            "Epoch 85/100\n",
            "9/9 [==============================] - 0s 3ms/step - loss: 85.0223 - mse: 85.0223\n",
            "Epoch 86/100\n",
            "9/9 [==============================] - 0s 2ms/step - loss: 85.3788 - mse: 85.3788\n",
            "Epoch 87/100\n",
            "9/9 [==============================] - 0s 3ms/step - loss: 85.2578 - mse: 85.2578\n",
            "Epoch 88/100\n",
            "9/9 [==============================] - 0s 2ms/step - loss: 85.1602 - mse: 85.1602\n",
            "Epoch 89/100\n",
            "9/9 [==============================] - 0s 3ms/step - loss: 87.3427 - mse: 87.3427\n",
            "Epoch 90/100\n",
            "9/9 [==============================] - 0s 3ms/step - loss: 85.9837 - mse: 85.9837\n",
            "Epoch 91/100\n",
            "9/9 [==============================] - 0s 2ms/step - loss: 84.7555 - mse: 84.7555\n",
            "Epoch 92/100\n",
            "9/9 [==============================] - 0s 2ms/step - loss: 84.9594 - mse: 84.9594\n",
            "Epoch 93/100\n",
            "9/9 [==============================] - 0s 3ms/step - loss: 85.4858 - mse: 85.4858\n",
            "Epoch 94/100\n",
            "9/9 [==============================] - 0s 3ms/step - loss: 85.0812 - mse: 85.0812\n",
            "Epoch 95/100\n",
            "9/9 [==============================] - 0s 3ms/step - loss: 85.3885 - mse: 85.3885\n",
            "Epoch 96/100\n",
            "9/9 [==============================] - 0s 2ms/step - loss: 85.7233 - mse: 85.7233\n",
            "Epoch 97/100\n",
            "9/9 [==============================] - 0s 2ms/step - loss: 85.8316 - mse: 85.8316\n",
            "Epoch 98/100\n",
            "9/9 [==============================] - 0s 3ms/step - loss: 84.7519 - mse: 84.7519\n",
            "Epoch 99/100\n",
            "9/9 [==============================] - 0s 2ms/step - loss: 87.7152 - mse: 87.7152\n",
            "Epoch 100/100\n",
            "9/9 [==============================] - 0s 3ms/step - loss: 85.4807 - mse: 85.4807\n"
          ]
        },
        {
          "output_type": "execute_result",
          "data": {
            "text/plain": [
              "<keras.callbacks.History at 0x7f2c526739d0>"
            ]
          },
          "metadata": {},
          "execution_count": 11
        }
      ]
    },
    {
      "cell_type": "code",
      "source": [],
      "metadata": {
        "id": "GoEQxEgN3Q_Y"
      },
      "execution_count": 11,
      "outputs": []
    }
  ]
}