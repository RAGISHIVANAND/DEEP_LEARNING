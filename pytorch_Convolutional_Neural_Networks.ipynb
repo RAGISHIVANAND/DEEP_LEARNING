{
  "nbformat": 4,
  "nbformat_minor": 0,
  "metadata": {
    "colab": {
      "provenance": [],
      "authorship_tag": "ABX9TyOaH3uYJKyliaIhZUVfQtdm",
      "include_colab_link": true
    },
    "kernelspec": {
      "name": "python3",
      "display_name": "Python 3"
    },
    "language_info": {
      "name": "python"
    }
  },
  "cells": [
    {
      "cell_type": "markdown",
      "metadata": {
        "id": "view-in-github",
        "colab_type": "text"
      },
      "source": [
        "<a href=\"https://colab.research.google.com/github/RAGISHIVANAND/DEEP_LEARNING/blob/main/pytorch_Convolutional_Neural_Networks.ipynb\" target=\"_parent\"><img src=\"https://colab.research.google.com/assets/colab-badge.svg\" alt=\"Open In Colab\"/></a>"
      ]
    },
    {
      "cell_type": "markdown",
      "source": [
        "# ***Importing the torch libraries***"
      ],
      "metadata": {
        "id": "FrfE0fodCXgB"
      }
    },
    {
      "cell_type": "code",
      "execution_count": 6,
      "metadata": {
        "id": "vVWXOmW4Bv-3"
      },
      "outputs": [],
      "source": [
        "import torch\n",
        "import torch.nn as nn\n",
        "import torchvision\n",
        "import torchvision.transforms as transforms"
      ]
    },
    {
      "cell_type": "code",
      "source": [
        "#Device configuration\n",
        "device = torch.device('cuda:0'if torch.cuda.is_available()else'cpu')\n",
        "\n",
        "#Hyperparameters\n",
        "num_epochs=5\n",
        "num_classes=10\n",
        "batch_size=100\n",
        "learning_rate=0.001"
      ],
      "metadata": {
        "id": "zEvFFwHyC4QO"
      },
      "execution_count": 2,
      "outputs": []
    },
    {
      "cell_type": "code",
      "source": [
        "#MNIST dataset\n",
        "train_dataset = torchvision.datasets.MNIST(root='inputdata',\n",
        "                                           train=True,\n",
        "                                           transform = transforms.ToTensor(),\n",
        "                                           download=True)\n",
        "test_dataset= torchvision.datasets.MNIST(root='inputdata',\n",
        "                                           train=False,\n",
        "                                           transform=transforms.ToTensor())\n",
        "#Dataloader\n",
        "train_loader=   torch.utils.data.DataLoader(dataset=train_dataset,\n",
        "                                            batch_size=batch_size,\n",
        "                                            shuffle=True)\n",
        "test_loader=torch.utils.data.DataLoader(dataset=test_dataset,\n",
        "                                        batch_size=batch_size,\n",
        "                                        shuffle=False)"
      ],
      "metadata": {
        "colab": {
          "base_uri": "https://localhost:8080/"
        },
        "id": "Hl_McNQWFq-f",
        "outputId": "a4e7975b-6291-471c-c254-faefae630e17"
      },
      "execution_count": 3,
      "outputs": [
        {
          "output_type": "stream",
          "name": "stdout",
          "text": [
            "Downloading http://yann.lecun.com/exdb/mnist/train-images-idx3-ubyte.gz\n",
            "Downloading http://yann.lecun.com/exdb/mnist/train-images-idx3-ubyte.gz to inputdata/MNIST/raw/train-images-idx3-ubyte.gz\n"
          ]
        },
        {
          "output_type": "stream",
          "name": "stderr",
          "text": [
            "100%|██████████| 9912422/9912422 [00:00<00:00, 88380921.62it/s]\n"
          ]
        },
        {
          "output_type": "stream",
          "name": "stdout",
          "text": [
            "Extracting inputdata/MNIST/raw/train-images-idx3-ubyte.gz to inputdata/MNIST/raw\n",
            "\n",
            "Downloading http://yann.lecun.com/exdb/mnist/train-labels-idx1-ubyte.gz\n",
            "Downloading http://yann.lecun.com/exdb/mnist/train-labels-idx1-ubyte.gz to inputdata/MNIST/raw/train-labels-idx1-ubyte.gz\n"
          ]
        },
        {
          "output_type": "stream",
          "name": "stderr",
          "text": [
            "100%|██████████| 28881/28881 [00:00<00:00, 33416743.12it/s]\n"
          ]
        },
        {
          "output_type": "stream",
          "name": "stdout",
          "text": [
            "Extracting inputdata/MNIST/raw/train-labels-idx1-ubyte.gz to inputdata/MNIST/raw\n",
            "\n",
            "Downloading http://yann.lecun.com/exdb/mnist/t10k-images-idx3-ubyte.gz\n",
            "Downloading http://yann.lecun.com/exdb/mnist/t10k-images-idx3-ubyte.gz to inputdata/MNIST/raw/t10k-images-idx3-ubyte.gz\n"
          ]
        },
        {
          "output_type": "stream",
          "name": "stderr",
          "text": [
            "100%|██████████| 1648877/1648877 [00:00<00:00, 26534674.40it/s]\n"
          ]
        },
        {
          "output_type": "stream",
          "name": "stdout",
          "text": [
            "Extracting inputdata/MNIST/raw/t10k-images-idx3-ubyte.gz to inputdata/MNIST/raw\n",
            "\n",
            "Downloading http://yann.lecun.com/exdb/mnist/t10k-labels-idx1-ubyte.gz\n",
            "Downloading http://yann.lecun.com/exdb/mnist/t10k-labels-idx1-ubyte.gz to inputdata/MNIST/raw/t10k-labels-idx1-ubyte.gz\n"
          ]
        },
        {
          "output_type": "stream",
          "name": "stderr",
          "text": [
            "100%|██████████| 4542/4542 [00:00<00:00, 9071680.37it/s]\n"
          ]
        },
        {
          "output_type": "stream",
          "name": "stdout",
          "text": [
            "Extracting inputdata/MNIST/raw/t10k-labels-idx1-ubyte.gz to inputdata/MNIST/raw\n",
            "\n"
          ]
        }
      ]
    },
    {
      "cell_type": "code",
      "source": [
        "#convolutional neural network(two convolutional layers)\n",
        "class ConvNet(nn.Module):\n",
        "    def __init__(self,num_classes=10):\n",
        "        super(ConvNet,self).__init__()\n",
        "        self.layer1=nn.Sequential(\n",
        "            nn.Conv2d(1,16,kernel_size=5,stride=1,padding=2),\n",
        "            nn.BatchNorm2d(16),\n",
        "            nn.ReLU(),\n",
        "            nn.MaxPool2d(kernel_size=2,stride=2))\n",
        "        self.layer2=nn.Sequential(\n",
        "            nn.Conv2d(16,32,kernel_size=5,stride=1,padding=2),\n",
        "            nn.BatchNorm2d(32),\n",
        "            nn.ReLU(),\n",
        "            nn.MaxPool2d(kernel_size=2,stride=2))\n",
        "        self.fc=nn.Linear(7*7*32,num_classes)\n",
        "    def forward(self,x):\n",
        "        out=self.layer1(x)\n",
        "        out=self.layer2(out)\n",
        "        out=out.reshape(out.size(0),-1)\n",
        "        out=self.fc(out)\n",
        "        return out    "
      ],
      "metadata": {
        "id": "gLh3_L9oIBsB"
      },
      "execution_count": 30,
      "outputs": []
    },
    {
      "cell_type": "code",
      "source": [
        "model = ConvNet(num_classes).to(device)\n",
        "\n",
        "#Loss and optimizer\n",
        "criterion = nn.CrossEntropyLoss()\n",
        "optimizer = torch.optim.Adam(model.parameters(),lr=learning_rate)"
      ],
      "metadata": {
        "id": "MfJDyqreNb5K"
      },
      "execution_count": 31,
      "outputs": []
    },
    {
      "cell_type": "code",
      "source": [
        "#Train the model\n",
        "total_step = len(train_loader)\n",
        "for epoch in range (num_epochs):\n",
        "    for i,(images,labels) in enumerate(train_loader):\n",
        "        \n",
        "        images = images.to(device)\n",
        "        labels=labels.to(device)\n",
        "\n",
        "        #Forward pass\n",
        "        outputs = model(images)\n",
        "        loss = criterion(outputs,labels)\n",
        "\n",
        "        #Backward and optimize\n",
        "        optimizer.zero_grad()\n",
        "        loss.backward()\n",
        "        optimizer.step()\n",
        "\n",
        "        if(i+1)% 100 == 0:\n",
        "           print('Epoch[{}/{}],step[{}/{}],Loss:{:.4f}'\n",
        "                 .format(epoch+1,num_epochs,i+1,total_step,loss.item()))"
      ],
      "metadata": {
        "colab": {
          "base_uri": "https://localhost:8080/"
        },
        "id": "zQDJ-F7FH9-K",
        "outputId": "ab4e68c6-da37-4f89-f5bf-a0d4c265932b"
      },
      "execution_count": 32,
      "outputs": [
        {
          "output_type": "stream",
          "name": "stdout",
          "text": [
            "Epoch[1/5],step[100/600],Loss:0.1195\n",
            "Epoch[1/5],step[200/600],Loss:0.2192\n",
            "Epoch[1/5],step[300/600],Loss:0.0889\n",
            "Epoch[1/5],step[400/600],Loss:0.0765\n",
            "Epoch[1/5],step[500/600],Loss:0.0976\n",
            "Epoch[1/5],step[600/600],Loss:0.0170\n",
            "Epoch[2/5],step[100/600],Loss:0.0229\n",
            "Epoch[2/5],step[200/600],Loss:0.0404\n",
            "Epoch[2/5],step[300/600],Loss:0.0168\n",
            "Epoch[2/5],step[400/600],Loss:0.0105\n",
            "Epoch[2/5],step[500/600],Loss:0.0398\n",
            "Epoch[2/5],step[600/600],Loss:0.0047\n",
            "Epoch[3/5],step[100/600],Loss:0.0149\n",
            "Epoch[3/5],step[200/600],Loss:0.0121\n",
            "Epoch[3/5],step[300/600],Loss:0.0056\n",
            "Epoch[3/5],step[400/600],Loss:0.1210\n",
            "Epoch[3/5],step[500/600],Loss:0.0416\n",
            "Epoch[3/5],step[600/600],Loss:0.1685\n",
            "Epoch[4/5],step[100/600],Loss:0.0187\n",
            "Epoch[4/5],step[200/600],Loss:0.0168\n",
            "Epoch[4/5],step[300/600],Loss:0.0801\n",
            "Epoch[4/5],step[400/600],Loss:0.0137\n",
            "Epoch[4/5],step[500/600],Loss:0.0265\n",
            "Epoch[4/5],step[600/600],Loss:0.0051\n",
            "Epoch[5/5],step[100/600],Loss:0.0033\n",
            "Epoch[5/5],step[200/600],Loss:0.0066\n",
            "Epoch[5/5],step[300/600],Loss:0.0625\n",
            "Epoch[5/5],step[400/600],Loss:0.0246\n",
            "Epoch[5/5],step[500/600],Loss:0.0615\n",
            "Epoch[5/5],step[600/600],Loss:0.0180\n"
          ]
        }
      ]
    },
    {
      "cell_type": "code",
      "source": [
        "#eval mode (batch norm uses moving mean/variance instead of mini_batch mean/variance)\n",
        "model.eval()\n",
        "with torch.no_grad():\n",
        "    correct=0\n",
        "    total=0\n",
        "    for images,labels in test_loader:\n",
        "        images=images.to(device)\n",
        "        labels=labels.to(device)\n",
        "        outputs=model(images)\n",
        "        _,predicted=torch.max(outputs.data,1)\n",
        "        total +=labels.size(0)\n",
        "        correct +=(predicted==labels).sum().item()\n",
        "    print('Accuracy of the network on the 10000 test images:{}%'.format(100*correct/total))    "
      ],
      "metadata": {
        "colab": {
          "base_uri": "https://localhost:8080/"
        },
        "id": "cgb_xbq7SXO_",
        "outputId": "e0831c59-8f83-4995-c423-cade32e63559"
      },
      "execution_count": 33,
      "outputs": [
        {
          "output_type": "stream",
          "name": "stdout",
          "text": [
            "Accuracy of the network on the 10000 test images:98.69%\n"
          ]
        }
      ]
    },
    {
      "cell_type": "code",
      "source": [],
      "metadata": {
        "id": "ix25kdCrXd8Y"
      },
      "execution_count": null,
      "outputs": []
    }
  ]
}