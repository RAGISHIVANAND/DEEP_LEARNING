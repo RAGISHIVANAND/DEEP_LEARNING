{
  "nbformat": 4,
  "nbformat_minor": 0,
  "metadata": {
    "colab": {
      "provenance": [],
      "authorship_tag": "ABX9TyPogG5esDazhBv0//DW6fHG",
      "include_colab_link": true
    },
    "kernelspec": {
      "name": "python3",
      "display_name": "Python 3"
    },
    "language_info": {
      "name": "python"
    }
  },
  "cells": [
    {
      "cell_type": "markdown",
      "metadata": {
        "id": "view-in-github",
        "colab_type": "text"
      },
      "source": [
        "<a href=\"https://colab.research.google.com/github/RAGISHIVANAND/DEEP_LEARNING/blob/main/keras_cnn_.ipynb\" target=\"_parent\"><img src=\"https://colab.research.google.com/assets/colab-badge.svg\" alt=\"Open In Colab\"/></a>"
      ]
    },
    {
      "cell_type": "code",
      "execution_count": 8,
      "metadata": {
        "id": "i2dnDaHnFujl"
      },
      "outputs": [],
      "source": [
        "import numpy as np\n",
        "import matplotlib.pyplot as plt\n",
        "from sklearn import datasets\n",
        "from sklearn.model_selection import train_test_split\n",
        "from keras.utils.np_utils import to_categorical\n",
        "from keras.models import Sequential\n",
        "\n",
        "from tensorflow.keras.optimizers import Adam\n",
        "from keras.layers import Dense,Activation,Flatten,Conv2D,MaxPooling2D"
      ]
    },
    {
      "cell_type": "code",
      "source": [
        "data = datasets.load_digits()\n",
        "x_data = data.images\n",
        "y_data=data.target\n",
        "print(x_data.shape[0])\n",
        "print(x_data.shape[1])\n",
        "print(x_data.shape[2])\n",
        "\n",
        "#reshape x_data into 3-D format note that this follows image format\n",
        "#of tensorflow backend\n",
        "\n",
        "x_data=x_data.reshape(x_data.shape[0],x_data.shape[1],x_data.shape[2],1)\n",
        "\n",
        "#one-hot encoding of y_data\n",
        "y_data=to_categorical(y_data)\n",
        "\n",
        "#partition data into train/test sets\n",
        "x_train,x_test,y_train,y_test=train_test_split(x_data,y_data,test_size=0.3,random_state=777)"
      ],
      "metadata": {
        "colab": {
          "base_uri": "https://localhost:8080/"
        },
        "id": "NsFmZbHYTwAP",
        "outputId": "0a973a61-3fe1-4354-a6e9-5c21344694ca"
      },
      "execution_count": 9,
      "outputs": [
        {
          "output_type": "stream",
          "name": "stdout",
          "text": [
            "1797\n",
            "8\n",
            "8\n"
          ]
        }
      ]
    },
    {
      "cell_type": "markdown",
      "source": [
        "# ***MODEL OPTIMIZER***"
      ],
      "metadata": {
        "id": "xdbgATV7gu2u"
      }
    },
    {
      "cell_type": "code",
      "source": [
        "model=Sequential()\n",
        "\n",
        "#convolution layer\n",
        "#model.add(Conv2D(input_shape=(x_data.shape[1],x_data.shape[2],x_data.shape[3]),filters=10,kernel_size=(3,3),strides=(1,1),padding='valid'))\n",
        "model.add(Conv2D(input_shape=(x_data.shape[1], x_data.shape[2], x_data.shape[3]), filters=10, kernel_size=(3, 3), strides=(1, 1), padding='valid'))\n",
        "\n",
        "\n",
        "#activation layer before pooling\n",
        "model.add(Activation('relu'))\n",
        "\n",
        "#pooling layer\n",
        "model.add(MaxPooling2D(pool_size=(2,2)))\n",
        "\n",
        "#prior layer should be flattend to be connected to dense layers\n",
        "model.add(Flatten())\n",
        "\n",
        "#dense layer with 50 neurons\n",
        "model.add(Dense(50,activation='relu'))\n",
        "\n",
        "#final layer with 10 neurons to classify the instances\n",
        "model.add(Dense(10,activation='softmax'))"
      ],
      "metadata": {
        "id": "gbhW87kOXY-q"
      },
      "execution_count": 17,
      "outputs": []
    },
    {
      "cell_type": "markdown",
      "source": [
        "# ***MODEL COMPILATION***"
      ],
      "metadata": {
        "id": "-0xhomuJg0kU"
      }
    },
    {
      "cell_type": "code",
      "source": [
        "adam = Adam(learning_rate=0.001)\n",
        "\n",
        "model.compile(loss='categorical_crossentropy',optimizer=adam,metrics=['accuracy'])\n",
        "\n",
        "history=model.fit(x_train,y_train,batch_size=50,validation_split=0.2,epochs=100,verbose=0)"
      ],
      "metadata": {
        "id": "URZbq0AAVc4D"
      },
      "execution_count": 19,
      "outputs": []
    },
    {
      "cell_type": "code",
      "source": [
        "results = model.evaluate(x_test,y_test)\n",
        "print('Test accuracy:',results[1])"
      ],
      "metadata": {
        "colab": {
          "base_uri": "https://localhost:8080/"
        },
        "id": "s_MNhExjfxlB",
        "outputId": "717e4a46-890e-4ba6-9d74-2c032d89ead3"
      },
      "execution_count": 20,
      "outputs": [
        {
          "output_type": "stream",
          "name": "stdout",
          "text": [
            "17/17 [==============================] - 0s 2ms/step - loss: 0.1249 - accuracy: 0.9796\n",
            "Test accuracy: 0.979629635810852\n"
          ]
        }
      ]
    },
    {
      "cell_type": "code",
      "source": [
        "plt.plot(history.history['accuracy'])\n",
        "plt.plot(history.history['val_accuracy'])\n",
        "plt.legend(['training','validation'],loc='upper left')\n",
        "plt.show()"
      ],
      "metadata": {
        "colab": {
          "base_uri": "https://localhost:8080/",
          "height": 430
        },
        "id": "pR91snDvhuZp",
        "outputId": "a9e8b333-ca27-4016-9db5-fd1b5691a3f6"
      },
      "execution_count": 21,
      "outputs": [
        {
          "output_type": "display_data",
          "data": {
            "text/plain": [
              "<Figure size 640x480 with 1 Axes>"
            ],
            "image/png": "[encoded data removed]"
          },
          "metadata": {}
        }
      ]
    },
    {
      "cell_type": "code",
      "source": [],
      "metadata": {
        "id": "IzwK3IZEjTkw"
      },
      "execution_count": null,
      "outputs": []
    }
  ]
}