{
  "nbformat": 4,
  "nbformat_minor": 0,
  "metadata": {
    "colab": {
      "provenance": [],
      "authorship_tag": "ABX9TyMHygeyYYhmgrOml/D7NcSQ",
      "include_colab_link": true
    },
    "kernelspec": {
      "name": "python3",
      "display_name": "Python 3"
    },
    "language_info": {
      "name": "python"
    }
  },
  "cells": [
    {
      "cell_type": "markdown",
      "metadata": {
        "id": "view-in-github",
        "colab_type": "text"
      },
      "source": [
        "<a href=\"https://colab.research.google.com/github/RAGISHIVANAND/DEEP_LEARNING/blob/main/KERAS_CNN_Model_for_Image_Classification.ipynb\" target=\"_parent\"><img src=\"https://colab.research.google.com/assets/colab-badge.svg\" alt=\"Open In Colab\"/></a>"
      ]
    },
    {
      "cell_type": "code",
      "execution_count": null,
      "metadata": {
        "colab": {
          "base_uri": "https://localhost:8080/"
        },
        "id": "nZCn58MVRJOs",
        "outputId": "10d08241-1b00-4ddf-ba2a-b034a6f63a93"
      },
      "outputs": [
        {
          "output_type": "stream",
          "name": "stdout",
          "text": [
            "Epoch 1/10\n",
            "4/4 [==============================] - 7s 2s/step - loss: 2.3207\n",
            "Epoch 2/10\n",
            "4/4 [==============================] - 5s 1s/step - loss: 2.3319\n",
            "Epoch 3/10\n",
            "4/4 [==============================] - 5s 1s/step - loss: 2.3146\n",
            "Epoch 4/10\n",
            "4/4 [==============================] - 5s 1s/step - loss: 2.2917\n",
            "Epoch 5/10\n",
            "4/4 [==============================] - 5s 1s/step - loss: 2.2975\n",
            "Epoch 6/10\n",
            "4/4 [==============================] - 6s 2s/step - loss: 2.3024\n",
            "Epoch 7/10\n",
            "4/4 [==============================] - 5s 1s/step - loss: 2.2891\n",
            "Epoch 8/10\n",
            "4/4 [==============================] - 6s 1s/step - loss: 2.3209\n",
            "Epoch 9/10\n",
            "4/4 [==============================] - 5s 1s/step - loss: 2.2848\n",
            "Epoch 10/10\n",
            "4/4 [==============================] - 6s 1s/step - loss: 2.2858\n",
            "1/1 [==============================] - 0s 352ms/step - loss: 2.3279\n"
          ]
        }
      ],
      "source": [
        "import numpy as np\n",
        "from tensorflow import keras\n",
        "from tensorflow.keras.models import Sequential\n",
        "from tensorflow.keras.layers import Dense, Dropout, Flatten, Conv2D, MaxPooling2D\n",
        "from tensorflow.keras.optimizers import SGD\n",
        "from tensorflow.keras.utils import to_categorical\n",
        "\n",
        "#Generate dummy data\n",
        "x_train = np.random.random((100, 100, 100, 3))\n",
        "y_train = to_categorical(np.random.randint(10, size=(100,)), num_classes=10)\n",
        "x_test = np.random.random((20, 100, 100, 3))\n",
        "y_test = to_categorical(np.random.randint(10, size=(20,)), num_classes=10)\n",
        "\n",
        "\n",
        "\n",
        "model = Sequential()\n",
        "\n",
        "#INPUT:100X100 IMAGES WITH 3 CHANNELS ->(100,100,3)TENSORS.\n",
        "#THIS APPLIES 32 CONVOLUTION FILTERS OF SIZE 3X3 EACH\n",
        "\n",
        "model.add(Conv2D(32, (3, 3), activation='relu', input_shape=(100, 100, 3)))\n",
        "model.add(Conv2D(32, (3, 3), activation='relu'))\n",
        "model.add(MaxPooling2D(pool_size=(2, 2)))\n",
        "model.add(Dropout(0.25))\n",
        "\n",
        "model.add(Conv2D(64, (3, 3), activation='relu'))\n",
        "model.add(Conv2D(64, (3, 3), activation='relu'))\n",
        "model.add(MaxPooling2D(pool_size=(2, 2)))\n",
        "model.add(Dropout(0.25))\n",
        "\n",
        "model.add(Flatten())\n",
        "model.add(Dense(256, activation='relu'))\n",
        "model.add(Dropout(0.5))\n",
        "model.add(Dense(10, activation='softmax'))\n",
        "\n",
        "#sgd = SGD(lr=0.01, decay=1e-6, momentum=0.9, nesterov=True)\n",
        "#sgd = keras.optimizers.SGD(learning_rate=0.01, decay=1e-6, momentum=0.9, nesterov=True)\n",
        "\n",
        "\n",
        "# Old code\n",
        "#sgd = SGD(learning_rate=0.01, decay=1e-6)\n",
        "#sgd = SGD(learning_rate=keras.optimizers.schedules.ExponentialDecay(initial_learning_rate=0.01,\n",
        "#                                                                    decay_steps=10000,\n",
        "#                                                                    decay_rate=0.96))\n",
        "\n",
        "#sgd = SGD(learning_rate=keras.optimizers.schedules.ExponentialDecay(initial_learning_rate=0.01,\n",
        "#                                                                    decay_steps=10000,\n",
        "#                                                                    decay_rate=0.96,momentum=0.9,nesterov=True))\n",
        "\n",
        "from tensorflow.keras.optimizers import SGD\n",
        "from tensorflow.keras.optimizers.schedules import ExponentialDecay\n",
        "\n",
        "initial_learning_rate = 0.01\n",
        "decay_steps = 10000\n",
        "decay_rate = 0.96\n",
        "momentum = 0.9\n",
        "nesterov = True\n",
        "\n",
        "learning_rate = ExponentialDecay(initial_learning_rate, decay_steps, decay_rate)\n",
        "sgd = SGD(learning_rate=learning_rate, momentum=momentum, nesterov=nesterov)\n",
        "\n",
        "\n",
        "model.compile(loss='categorical_crossentropy', optimizer=sgd)\n",
        "\n",
        "model.fit(x_train, y_train, batch_size=32, epochs=10)\n",
        "score = model.evaluate(x_test, y_test, batch_size=32)\n"
      ]
    },
    {
      "cell_type": "code",
      "source": [],
      "metadata": {
        "id": "9LSifjOyfB1m"
      },
      "execution_count": null,
      "outputs": []
    }
  ]
}