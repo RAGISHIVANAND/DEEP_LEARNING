{
  "nbformat": 4,
  "nbformat_minor": 0,
  "metadata": {
    "colab": {
      "provenance": [],
      "mount_file_id": "1vQOChGXkahzkBgfvj4VCcwO5uOJ4dHvg",
      "authorship_tag": "ABX9TyM3Svg9UhdJwD/D2Zg/z531",
      "include_colab_link": true
    },
    "kernelspec": {
      "name": "python3",
      "display_name": "Python 3"
    },
    "language_info": {
      "name": "python"
    }
  },
  "cells": [
    {
      "cell_type": "markdown",
      "metadata": {
        "id": "view-in-github",
        "colab_type": "text"
      },
      "source": [
        "<a href=\"https://colab.research.google.com/github/RAGISHIVANAND/DEEP_LEARNING/blob/main/1_AIRLINE_PASSENGERS_RNN_LSTM_KERAS.ipynb\" target=\"_parent\"><img src=\"https://colab.research.google.com/assets/colab-badge.svg\" alt=\"Open In Colab\"/></a>"
      ]
    },
    {
      "cell_type": "code",
      "source": [
        "from google.colab import drive\n",
        "drive.mount('/content/drive')"
      ],
      "metadata": {
        "id": "Z2EEOYSGcTT5",
        "colab": {
          "base_uri": "https://localhost:8080/"
        },
        "outputId": "bcb3099c-6f9a-4296-ee0d-7f3387603048"
      },
      "execution_count": null,
      "outputs": [
        {
          "output_type": "stream",
          "name": "stdout",
          "text": [
            "Drive already mounted at /content/drive; to attempt to forcibly remount, call drive.mount(\"/content/drive\", force_remount=True).\n"
          ]
        }
      ]
    },
    {
      "cell_type": "code",
      "source": [
        "import numpy\n",
        "import matplotlib.pyplot as plt\n",
        "from pandas import read_csv\n",
        "import math\n",
        "from keras.models import Sequential\n",
        "from keras.layers import Dense\n",
        "from keras.layers import LSTM\n",
        "from sklearn.preprocessing import MinMaxScaler\n",
        "from sklearn.metrics import mean_squared_error"
      ],
      "metadata": {
        "id": "2NBVXf1gcfZu"
      },
      "execution_count": null,
      "outputs": []
    },
    {
      "cell_type": "code",
      "source": [
        "def create_dataset(dataset, look_back=1):\n",
        "  dataX, dataY = [], []\n",
        "  for i in range(len(dataset)-look_back-1):\n",
        "    a = dataset[i:(i+look_back), 0]\n",
        "    dataX.append(a)\n",
        "    dataY.append(dataset[i + look_back, 0])\n",
        "  return numpy.array(dataX), numpy.array(dataY)"
      ],
      "metadata": {
        "id": "9Bef8v-LfEI-"
      },
      "execution_count": null,
      "outputs": []
    },
    {
      "cell_type": "code",
      "source": [
        "numpy.random.seed(7)\n",
        "#load the dataset\n",
        "dataframe = read_csv('/content/drive/MyDrive/Airline passengers.csv', usecols=[1], engine='python')\n",
        "dataset=dataframe.values\n",
        "dataset=dataset.astype('float32')\n",
        "\n",
        "#normalize the dataset\n",
        "scaler = MinMaxScaler(feature_range=(0,1))\n",
        "dataset=scaler.fit_transform(dataset)\n",
        "\n",
        "#split into train and test sets\n",
        "train_size = int(len(dataset)*0.67)\n",
        "test_size = len(dataset)-train_size\n",
        "\n",
        "train, test = dataset[0:train_size, :],dataset[train_size:len(dataset), :]\n",
        "\n",
        "#reshape into X= t and Y =t+1\n",
        "look_back = 1\n",
        "trainX, trainY = create_dataset(train, look_back)\n",
        "testX, testY = create_dataset(test, look_back)\n",
        "\n",
        "#reshape input to be [samples, time steps, features]\n",
        "trainX = numpy.reshape(trainX, (trainX.shape[0], 1, trainX.shape[1]))\n",
        "testX = numpy.reshape(testX, (testX.shape[0], 1, testX.shape[1]))\n",
        "\n",
        "\n",
        "\n"
      ],
      "metadata": {
        "id": "swmQdtEmiTO4"
      },
      "execution_count": null,
      "outputs": []
    },
    {
      "cell_type": "code",
      "source": [
        "model = Sequential()\n",
        "model.add(LSTM(4, input_shape = (1, look_back)))\n",
        "model.add(Dense(1))\n",
        "model.compile(loss='mean_squared_error',optimizer='adam')\n",
        "model.fit(trainX, trainY, epochs=100, batch_size=1, verbose=2)"
      ],
      "metadata": {
        "colab": {
          "base_uri": "https://localhost:8080/"
        },
        "id": "iRohE30pq0JA",
        "outputId": "4dc762cd-a59d-40f5-8341-7687ab1e4293"
      },
      "execution_count": null,
      "outputs": [
        {
          "output_type": "stream",
          "name": "stdout",
          "text": [
            "Epoch 1/100\n",
            "94/94 - 2s - loss: 0.0410 - 2s/epoch - 21ms/step\n",
            "Epoch 2/100\n",
            "94/94 - 0s - loss: 0.0195 - 145ms/epoch - 2ms/step\n",
            "Epoch 3/100\n",
            "94/94 - 0s - loss: 0.0151 - 155ms/epoch - 2ms/step\n",
            "Epoch 4/100\n",
            "94/94 - 0s - loss: 0.0139 - 144ms/epoch - 2ms/step\n",
            "Epoch 5/100\n",
            "94/94 - 0s - loss: 0.0132 - 157ms/epoch - 2ms/step\n",
            "Epoch 6/100\n",
            "94/94 - 0s - loss: 0.0123 - 153ms/epoch - 2ms/step\n",
            "Epoch 7/100\n",
            "94/94 - 0s - loss: 0.0113 - 144ms/epoch - 2ms/step\n",
            "Epoch 8/100\n",
            "94/94 - 0s - loss: 0.0106 - 163ms/epoch - 2ms/step\n",
            "Epoch 9/100\n",
            "94/94 - 0s - loss: 0.0098 - 145ms/epoch - 2ms/step\n",
            "Epoch 10/100\n",
            "94/94 - 0s - loss: 0.0089 - 149ms/epoch - 2ms/step\n",
            "Epoch 11/100\n",
            "94/94 - 0s - loss: 0.0081 - 143ms/epoch - 2ms/step\n",
            "Epoch 12/100\n",
            "94/94 - 0s - loss: 0.0073 - 164ms/epoch - 2ms/step\n",
            "Epoch 13/100\n",
            "94/94 - 0s - loss: 0.0065 - 149ms/epoch - 2ms/step\n",
            "Epoch 14/100\n",
            "94/94 - 0s - loss: 0.0058 - 138ms/epoch - 1ms/step\n",
            "Epoch 15/100\n",
            "94/94 - 0s - loss: 0.0051 - 145ms/epoch - 2ms/step\n",
            "Epoch 16/100\n",
            "94/94 - 0s - loss: 0.0045 - 150ms/epoch - 2ms/step\n",
            "Epoch 17/100\n",
            "94/94 - 0s - loss: 0.0040 - 141ms/epoch - 2ms/step\n",
            "Epoch 18/100\n",
            "94/94 - 0s - loss: 0.0035 - 148ms/epoch - 2ms/step\n",
            "Epoch 19/100\n",
            "94/94 - 0s - loss: 0.0032 - 153ms/epoch - 2ms/step\n",
            "Epoch 20/100\n",
            "94/94 - 0s - loss: 0.0028 - 152ms/epoch - 2ms/step\n",
            "Epoch 21/100\n",
            "94/94 - 0s - loss: 0.0026 - 179ms/epoch - 2ms/step\n",
            "Epoch 22/100\n",
            "94/94 - 0s - loss: 0.0025 - 211ms/epoch - 2ms/step\n",
            "Epoch 23/100\n",
            "94/94 - 0s - loss: 0.0023 - 212ms/epoch - 2ms/step\n",
            "Epoch 24/100\n",
            "94/94 - 0s - loss: 0.0022 - 217ms/epoch - 2ms/step\n",
            "Epoch 25/100\n",
            "94/94 - 0s - loss: 0.0022 - 209ms/epoch - 2ms/step\n",
            "Epoch 26/100\n",
            "94/94 - 0s - loss: 0.0021 - 203ms/epoch - 2ms/step\n",
            "Epoch 27/100\n",
            "94/94 - 0s - loss: 0.0021 - 221ms/epoch - 2ms/step\n",
            "Epoch 28/100\n",
            "94/94 - 0s - loss: 0.0021 - 211ms/epoch - 2ms/step\n",
            "Epoch 29/100\n",
            "94/94 - 0s - loss: 0.0021 - 224ms/epoch - 2ms/step\n",
            "Epoch 30/100\n",
            "94/94 - 0s - loss: 0.0020 - 210ms/epoch - 2ms/step\n",
            "Epoch 31/100\n",
            "94/94 - 0s - loss: 0.0021 - 209ms/epoch - 2ms/step\n",
            "Epoch 32/100\n",
            "94/94 - 0s - loss: 0.0021 - 190ms/epoch - 2ms/step\n",
            "Epoch 33/100\n",
            "94/94 - 0s - loss: 0.0020 - 211ms/epoch - 2ms/step\n",
            "Epoch 34/100\n",
            "94/94 - 0s - loss: 0.0021 - 233ms/epoch - 2ms/step\n",
            "Epoch 35/100\n",
            "94/94 - 0s - loss: 0.0020 - 200ms/epoch - 2ms/step\n",
            "Epoch 36/100\n",
            "94/94 - 0s - loss: 0.0021 - 207ms/epoch - 2ms/step\n",
            "Epoch 37/100\n",
            "94/94 - 0s - loss: 0.0021 - 204ms/epoch - 2ms/step\n",
            "Epoch 38/100\n",
            "94/94 - 0s - loss: 0.0021 - 206ms/epoch - 2ms/step\n",
            "Epoch 39/100\n",
            "94/94 - 0s - loss: 0.0020 - 215ms/epoch - 2ms/step\n",
            "Epoch 40/100\n",
            "94/94 - 0s - loss: 0.0021 - 218ms/epoch - 2ms/step\n",
            "Epoch 41/100\n",
            "94/94 - 0s - loss: 0.0021 - 147ms/epoch - 2ms/step\n",
            "Epoch 42/100\n",
            "94/94 - 0s - loss: 0.0021 - 141ms/epoch - 1ms/step\n",
            "Epoch 43/100\n",
            "94/94 - 0s - loss: 0.0021 - 147ms/epoch - 2ms/step\n",
            "Epoch 44/100\n",
            "94/94 - 0s - loss: 0.0021 - 151ms/epoch - 2ms/step\n",
            "Epoch 45/100\n",
            "94/94 - 0s - loss: 0.0020 - 155ms/epoch - 2ms/step\n",
            "Epoch 46/100\n",
            "94/94 - 0s - loss: 0.0021 - 141ms/epoch - 2ms/step\n",
            "Epoch 47/100\n",
            "94/94 - 0s - loss: 0.0021 - 148ms/epoch - 2ms/step\n",
            "Epoch 48/100\n",
            "94/94 - 0s - loss: 0.0021 - 147ms/epoch - 2ms/step\n",
            "Epoch 49/100\n",
            "94/94 - 0s - loss: 0.0020 - 143ms/epoch - 2ms/step\n",
            "Epoch 50/100\n",
            "94/94 - 0s - loss: 0.0020 - 151ms/epoch - 2ms/step\n",
            "Epoch 51/100\n",
            "94/94 - 0s - loss: 0.0021 - 147ms/epoch - 2ms/step\n",
            "Epoch 52/100\n",
            "94/94 - 0s - loss: 0.0020 - 147ms/epoch - 2ms/step\n",
            "Epoch 53/100\n",
            "94/94 - 0s - loss: 0.0020 - 158ms/epoch - 2ms/step\n",
            "Epoch 54/100\n",
            "94/94 - 0s - loss: 0.0020 - 149ms/epoch - 2ms/step\n",
            "Epoch 55/100\n",
            "94/94 - 0s - loss: 0.0020 - 144ms/epoch - 2ms/step\n",
            "Epoch 56/100\n",
            "94/94 - 0s - loss: 0.0020 - 144ms/epoch - 2ms/step\n",
            "Epoch 57/100\n",
            "94/94 - 0s - loss: 0.0020 - 150ms/epoch - 2ms/step\n",
            "Epoch 58/100\n",
            "94/94 - 0s - loss: 0.0020 - 155ms/epoch - 2ms/step\n",
            "Epoch 59/100\n",
            "94/94 - 0s - loss: 0.0021 - 147ms/epoch - 2ms/step\n",
            "Epoch 60/100\n",
            "94/94 - 0s - loss: 0.0020 - 149ms/epoch - 2ms/step\n",
            "Epoch 61/100\n",
            "94/94 - 0s - loss: 0.0021 - 146ms/epoch - 2ms/step\n",
            "Epoch 62/100\n",
            "94/94 - 0s - loss: 0.0021 - 141ms/epoch - 2ms/step\n",
            "Epoch 63/100\n",
            "94/94 - 0s - loss: 0.0021 - 151ms/epoch - 2ms/step\n",
            "Epoch 64/100\n",
            "94/94 - 0s - loss: 0.0020 - 140ms/epoch - 1ms/step\n",
            "Epoch 65/100\n",
            "94/94 - 0s - loss: 0.0021 - 150ms/epoch - 2ms/step\n",
            "Epoch 66/100\n",
            "94/94 - 0s - loss: 0.0020 - 153ms/epoch - 2ms/step\n",
            "Epoch 67/100\n",
            "94/94 - 0s - loss: 0.0020 - 143ms/epoch - 2ms/step\n",
            "Epoch 68/100\n",
            "94/94 - 0s - loss: 0.0020 - 144ms/epoch - 2ms/step\n",
            "Epoch 69/100\n",
            "94/94 - 0s - loss: 0.0020 - 151ms/epoch - 2ms/step\n",
            "Epoch 70/100\n",
            "94/94 - 0s - loss: 0.0021 - 142ms/epoch - 2ms/step\n",
            "Epoch 71/100\n",
            "94/94 - 0s - loss: 0.0020 - 139ms/epoch - 1ms/step\n",
            "Epoch 72/100\n",
            "94/94 - 0s - loss: 0.0021 - 152ms/epoch - 2ms/step\n",
            "Epoch 73/100\n",
            "94/94 - 0s - loss: 0.0020 - 140ms/epoch - 1ms/step\n",
            "Epoch 74/100\n",
            "94/94 - 0s - loss: 0.0020 - 144ms/epoch - 2ms/step\n",
            "Epoch 75/100\n",
            "94/94 - 0s - loss: 0.0020 - 151ms/epoch - 2ms/step\n",
            "Epoch 76/100\n",
            "94/94 - 0s - loss: 0.0020 - 138ms/epoch - 1ms/step\n",
            "Epoch 77/100\n",
            "94/94 - 0s - loss: 0.0020 - 144ms/epoch - 2ms/step\n",
            "Epoch 78/100\n",
            "94/94 - 0s - loss: 0.0021 - 141ms/epoch - 2ms/step\n",
            "Epoch 79/100\n",
            "94/94 - 0s - loss: 0.0020 - 157ms/epoch - 2ms/step\n",
            "Epoch 80/100\n",
            "94/94 - 0s - loss: 0.0020 - 142ms/epoch - 2ms/step\n",
            "Epoch 81/100\n",
            "94/94 - 0s - loss: 0.0020 - 152ms/epoch - 2ms/step\n",
            "Epoch 82/100\n",
            "94/94 - 0s - loss: 0.0020 - 136ms/epoch - 1ms/step\n",
            "Epoch 83/100\n",
            "94/94 - 0s - loss: 0.0020 - 151ms/epoch - 2ms/step\n",
            "Epoch 84/100\n",
            "94/94 - 0s - loss: 0.0020 - 141ms/epoch - 2ms/step\n",
            "Epoch 85/100\n",
            "94/94 - 0s - loss: 0.0020 - 139ms/epoch - 1ms/step\n",
            "Epoch 86/100\n",
            "94/94 - 0s - loss: 0.0020 - 151ms/epoch - 2ms/step\n",
            "Epoch 87/100\n",
            "94/94 - 0s - loss: 0.0020 - 139ms/epoch - 1ms/step\n",
            "Epoch 88/100\n",
            "94/94 - 0s - loss: 0.0020 - 142ms/epoch - 2ms/step\n",
            "Epoch 89/100\n",
            "94/94 - 0s - loss: 0.0020 - 144ms/epoch - 2ms/step\n",
            "Epoch 90/100\n",
            "94/94 - 0s - loss: 0.0020 - 141ms/epoch - 2ms/step\n",
            "Epoch 91/100\n",
            "94/94 - 0s - loss: 0.0020 - 143ms/epoch - 2ms/step\n",
            "Epoch 92/100\n",
            "94/94 - 0s - loss: 0.0021 - 148ms/epoch - 2ms/step\n",
            "Epoch 93/100\n",
            "94/94 - 0s - loss: 0.0020 - 151ms/epoch - 2ms/step\n",
            "Epoch 94/100\n",
            "94/94 - 0s - loss: 0.0021 - 144ms/epoch - 2ms/step\n",
            "Epoch 95/100\n",
            "94/94 - 0s - loss: 0.0020 - 144ms/epoch - 2ms/step\n",
            "Epoch 96/100\n",
            "94/94 - 0s - loss: 0.0020 - 148ms/epoch - 2ms/step\n",
            "Epoch 97/100\n",
            "94/94 - 0s - loss: 0.0020 - 146ms/epoch - 2ms/step\n",
            "Epoch 98/100\n",
            "94/94 - 0s - loss: 0.0020 - 143ms/epoch - 2ms/step\n",
            "Epoch 99/100\n",
            "94/94 - 0s - loss: 0.0021 - 137ms/epoch - 1ms/step\n",
            "Epoch 100/100\n",
            "94/94 - 0s - loss: 0.0020 - 160ms/epoch - 2ms/step\n"
          ]
        },
        {
          "output_type": "execute_result",
          "data": {
            "text/plain": [
              "<keras.callbacks.History at 0x7e7468468f40>"
            ]
          },
          "metadata": {},
          "execution_count": 5
        }
      ]
    },
    {
      "cell_type": "code",
      "source": [
        "trainPredict = model.predict(trainX)\n",
        "testPredict = model.predict(testX)\n",
        "\n",
        "#invert predictions\n",
        "trainPredict = scaler.inverse_transform(trainPredict)\n",
        "trainY = scaler.inverse_transform(trainY)\n",
        "testPredict = scaler.inverse_transform(testPredict)\n",
        "testY = scaler.inverse_transform(testY)\n",
        "\n",
        "#calculate root mean squared error\n",
        "\n",
        "#trainscore = math.sqrt(mean_squared_error(trainY[0], trainPredict[:,0]))\n",
        "#print('Train score: %.2f RMSE' %(trainscore))\n",
        "#testScore = math.sqrt(mean_squared_error(testY[0], testPredict[:,0]))\n",
        "#print('Test score: %.2f RMSE' %(testScore))"
      ],
      "metadata": {
        "id": "pAjb_W_tAFna",
        "colab": {
          "base_uri": "https://localhost:8080/"
        },
        "outputId": "8c583ee6-7b87-4c42-822e-cf83a195cced"
      },
      "execution_count": null,
      "outputs": [
        {
          "output_type": "stream",
          "name": "stdout",
          "text": [
            "3/3 [==============================] - 0s 3ms/step\n",
            "2/2 [==============================] - 0s 6ms/step\n"
          ]
        }
      ]
    },
    {
      "cell_type": "code",
      "source": [
        "# Calculate root mean squared error\n",
        "trainscore = math.sqrt(mean_squared_error(trainY, trainPredict[:, 0]))\n",
        "print('Train score: %.2f RMSE' % trainscore)\n",
        "testScore = math.sqrt(mean_squared_error(testY, testPredict[:, 0]))\n",
        "print('Test score: %.2f RMSE' % testScore)"
      ],
      "metadata": {
        "colab": {
          "base_uri": "https://localhost:8080/"
        },
        "id": "NMNdPZTomrE5",
        "outputId": "5cbb52df-a9fb-4fd5-b02d-3af9c51b88b1"
      },
      "execution_count": null,
      "outputs": [
        {
          "output_type": "stream",
          "name": "stdout",
          "text": [
            "Train score: 22576821000872695957118713180450231156736.00 RMSE\n",
            "Test score: 157744909174098691211506045633429504.00 RMSE\n"
          ]
        }
      ]
    },
    {
      "cell_type": "code",
      "source": [
        "### Plotting\n",
        "# shift train predictions for plotting\n",
        "lookback=4\n",
        "trainPredictPlot = numpy.empty_like(dataset)\n",
        "trainPredictPlot[:, :] = numpy.nan\n",
        "trainPredictPlot[look_back:len(trainPredict)+look_back, :] = trainPredict\n",
        "# shift test predictions for plotting\n",
        "testPredictPlot = numpy.empty_like(dataset)\n",
        "testPredictPlot[:, :] = numpy.nan\n",
        "testPredictPlot[len(trainPredict)+(look_back*2)+1:len(dataset)-1, :] = testPredict\n",
        "# plot baseline and predictions\n",
        "plt.plot(scaler.inverse_transform(dataset))\n",
        "plt.plot(trainPredictPlot)\n",
        "plt.plot(testPredictPlot)\n",
        "plt.show()"
      ],
      "metadata": {
        "colab": {
          "base_uri": "https://localhost:8080/",
          "height": 430
        },
        "id": "jcSXRGehl1K0",
        "outputId": "f34dd26d-aef2-4a81-dc58-fa23f3be58a8"
      },
      "execution_count": null,
      "outputs": [
        {
          "output_type": "display_data",
          "data": {
            "text/plain": [
              "<Figure size 640x480 with 1 Axes>"
            ],
            "image/png": "[encoded data removed]"
          },
          "metadata": {}
        }
      ]
    },
    {
      "cell_type": "code",
      "source": [],
      "metadata": {
        "id": "g09q_sNcoyRQ"
      },
      "execution_count": null,
      "outputs": []
    }
  ]
}