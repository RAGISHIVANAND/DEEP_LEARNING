{
  "nbformat": 4,
  "nbformat_minor": 0,
  "metadata": {
    "colab": {
      "provenance": [],
      "authorship_tag": "ABX9TyOelSaXuwkiKzLIo+JL9LGH",
      "include_colab_link": true
    },
    "kernelspec": {
      "name": "python3",
      "display_name": "Python 3"
    },
    "language_info": {
      "name": "python"
    }
  },
  "cells": [
    {
      "cell_type": "markdown",
      "metadata": {
        "id": "view-in-github",
        "colab_type": "text"
      },
      "source": [
        "<a href=\"https://colab.research.google.com/github/RAGISHIVANAND/DEEP_LEARNING/blob/main/pytorch_Artificial_neural_networks.ipynb\" target=\"_parent\"><img src=\"https://colab.research.google.com/assets/colab-badge.svg\" alt=\"Open In Colab\"/></a>"
      ]
    },
    {
      "cell_type": "markdown",
      "source": [
        "# ***Importing the necessary libraries***"
      ],
      "metadata": {
        "id": "P9ZuqcH3HhH3"
      }
    },
    {
      "cell_type": "code",
      "execution_count": 3,
      "metadata": {
        "id": "AG8buzQFHYj6"
      },
      "outputs": [],
      "source": [
        "import torch\n",
        "import torch.nn as nn\n",
        "import torchvision\n",
        "import torchvision.transforms as transforms"
      ]
    },
    {
      "cell_type": "code",
      "source": [
        "#device configuration\n",
        "device=torch.device('cuda' if torch.cuda.is_available() else 'cpu')\n",
        "\n",
        "#Hyper_parameters\n",
        "input_size = 784\n",
        "hidden_size = 500\n",
        "num_classes = 10\n",
        "num_epochs = 5\n",
        "batch_size = 100\n",
        "learning_rate=0.001"
      ],
      "metadata": {
        "id": "vWcUXDTOIOZA"
      },
      "execution_count": 4,
      "outputs": []
    },
    {
      "cell_type": "code",
      "source": [
        "#MNIST dataset\n",
        "train_dataset = torchvision.datasets.MNIST(root='inputdata',\n",
        "                                           train=True,\n",
        "                                           transform = transforms.ToTensor(),\n",
        "                                           download=True)\n",
        "test_dataset= torchvision.datasets.MNIST(root='inputdata',\n",
        "                                           train=False,\n",
        "                                           transform=transforms.ToTensor())\n",
        "#Dataloader\n",
        "train_loader=   torch.utils.data.DataLoader(dataset=train_dataset,\n",
        "                                            batch_size=batch_size,\n",
        "                                            shuffle=True)\n",
        "test_loader=torch.utils.data.DataLoader(dataset=test_dataset,\n",
        "                                        batch_size=batch_size,\n",
        "                                        shuffle=False)"
      ],
      "metadata": {
        "id": "wxI8RtjTLOIu",
        "colab": {
          "base_uri": "https://localhost:8080/"
        },
        "outputId": "7213f696-0c18-49d4-8e72-5a283c1500cb"
      },
      "execution_count": 5,
      "outputs": [
        {
          "output_type": "stream",
          "name": "stdout",
          "text": [
            "Downloading http://yann.lecun.com/exdb/mnist/train-images-idx3-ubyte.gz\n",
            "Downloading http://yann.lecun.com/exdb/mnist/train-images-idx3-ubyte.gz to inputdata/MNIST/raw/train-images-idx3-ubyte.gz\n"
          ]
        },
        {
          "output_type": "stream",
          "name": "stderr",
          "text": [
            "100%|██████████| 9912422/9912422 [00:00<00:00, 99480559.44it/s]\n"
          ]
        },
        {
          "output_type": "stream",
          "name": "stdout",
          "text": [
            "Extracting inputdata/MNIST/raw/train-images-idx3-ubyte.gz to inputdata/MNIST/raw\n",
            "\n",
            "Downloading http://yann.lecun.com/exdb/mnist/train-labels-idx1-ubyte.gz\n",
            "Downloading http://yann.lecun.com/exdb/mnist/train-labels-idx1-ubyte.gz to inputdata/MNIST/raw/train-labels-idx1-ubyte.gz\n"
          ]
        },
        {
          "output_type": "stream",
          "name": "stderr",
          "text": [
            "100%|██████████| 28881/28881 [00:00<00:00, 42819262.57it/s]\n"
          ]
        },
        {
          "output_type": "stream",
          "name": "stdout",
          "text": [
            "Extracting inputdata/MNIST/raw/train-labels-idx1-ubyte.gz to inputdata/MNIST/raw\n",
            "\n",
            "Downloading http://yann.lecun.com/exdb/mnist/t10k-images-idx3-ubyte.gz\n",
            "Downloading http://yann.lecun.com/exdb/mnist/t10k-images-idx3-ubyte.gz to inputdata/MNIST/raw/t10k-images-idx3-ubyte.gz\n"
          ]
        },
        {
          "output_type": "stream",
          "name": "stderr",
          "text": [
            "100%|██████████| 1648877/1648877 [00:00<00:00, 26523988.93it/s]\n"
          ]
        },
        {
          "output_type": "stream",
          "name": "stdout",
          "text": [
            "Extracting inputdata/MNIST/raw/t10k-images-idx3-ubyte.gz to inputdata/MNIST/raw\n",
            "\n",
            "Downloading http://yann.lecun.com/exdb/mnist/t10k-labels-idx1-ubyte.gz\n",
            "Downloading http://yann.lecun.com/exdb/mnist/t10k-labels-idx1-ubyte.gz to inputdata/MNIST/raw/t10k-labels-idx1-ubyte.gz\n"
          ]
        },
        {
          "output_type": "stream",
          "name": "stderr",
          "text": [
            "100%|██████████| 4542/4542 [00:00<00:00, 12467623.54it/s]\n"
          ]
        },
        {
          "output_type": "stream",
          "name": "stdout",
          "text": [
            "Extracting inputdata/MNIST/raw/t10k-labels-idx1-ubyte.gz to inputdata/MNIST/raw\n",
            "\n"
          ]
        }
      ]
    },
    {
      "cell_type": "code",
      "source": [
        "#FULLY CONNECTED NEURAL NETWORK WITH ONE HIDDEN LAYER\n",
        "class NeuralNet(nn.Module):\n",
        "    def __init__(self,input_size,hidden_size,num_classes):\n",
        "        super(NeuralNet,self).__init__()\n",
        "        self.fc1=nn.Linear(input_size,hidden_size)\n",
        "        self.relu = nn.ReLU()\n",
        "        self.fc2=nn.Linear(hidden_size,num_classes)\n",
        "    def forward(self,x):\n",
        "        out = self.fc1(x)\n",
        "        out = self.relu(out)\n",
        "        out = self.fc2(out)\n",
        "        return out    "
      ],
      "metadata": {
        "id": "ga-6IKhXZ86i"
      },
      "execution_count": 6,
      "outputs": []
    },
    {
      "cell_type": "code",
      "source": [
        "model = NeuralNet(input_size,hidden_size,num_classes).to(device)\n",
        "\n",
        "#Loss and optimizer\n",
        "criterion = nn.CrossEntropyLoss()\n",
        "optimizer = torch.optim.Adam(model.parameters(),lr=learning_rate)"
      ],
      "metadata": {
        "id": "8DhTIn1nvwJw"
      },
      "execution_count": 7,
      "outputs": []
    },
    {
      "cell_type": "code",
      "source": [
        "#Train the model\n",
        "total_step = len(train_loader)\n",
        "for epoch in range (num_epochs):\n",
        "    for i,(images,labels) in enumerate(train_loader):\n",
        "        #Move tensors to the configured device\n",
        "        images = images.reshape(-1,28*28).to(device)\n",
        "        labels=labels.to(device)\n",
        "\n",
        "        #Forward pass\n",
        "        outputs = model(images)\n",
        "        loss = criterion(outputs,labels)\n",
        "\n",
        "        #Backward and optimize\n",
        "        optimizer.zero_grad()\n",
        "        loss.backward()\n",
        "        optimizer.step()\n",
        "\n",
        "        if(i+1)% 100 == 0:\n",
        "           print('Epoch[{}/{}],step[{}/{}],Loss:{:.4f}'.format(epoch+1,num_epochs,i+1,total_step,loss.item())\n",
        "                 .format(epoch+1,num_epochs,i+1,total_step,loss.item()))\n"
      ],
      "metadata": {
        "colab": {
          "base_uri": "https://localhost:8080/"
        },
        "id": "f1YipJP2vxSo",
        "outputId": "bab88ff7-aa14-4e33-8a16-963fa248acd3"
      },
      "execution_count": 8,
      "outputs": [
        {
          "output_type": "stream",
          "name": "stdout",
          "text": [
            "Epoch[1/5],step[100/600],Loss:0.4721\n",
            "Epoch[1/5],step[200/600],Loss:0.1471\n",
            "Epoch[1/5],step[300/600],Loss:0.2417\n",
            "Epoch[1/5],step[400/600],Loss:0.2828\n",
            "Epoch[1/5],step[500/600],Loss:0.1591\n",
            "Epoch[1/5],step[600/600],Loss:0.1848\n",
            "Epoch[2/5],step[100/600],Loss:0.2583\n",
            "Epoch[2/5],step[200/600],Loss:0.1116\n",
            "Epoch[2/5],step[300/600],Loss:0.0782\n",
            "Epoch[2/5],step[400/600],Loss:0.1067\n",
            "Epoch[2/5],step[500/600],Loss:0.0437\n",
            "Epoch[2/5],step[600/600],Loss:0.0585\n",
            "Epoch[3/5],step[100/600],Loss:0.0412\n",
            "Epoch[3/5],step[200/600],Loss:0.1692\n",
            "Epoch[3/5],step[300/600],Loss:0.1125\n",
            "Epoch[3/5],step[400/600],Loss:0.0350\n",
            "Epoch[3/5],step[500/600],Loss:0.1071\n",
            "Epoch[3/5],step[600/600],Loss:0.0558\n",
            "Epoch[4/5],step[100/600],Loss:0.0869\n",
            "Epoch[4/5],step[200/600],Loss:0.0510\n",
            "Epoch[4/5],step[300/600],Loss:0.0707\n",
            "Epoch[4/5],step[400/600],Loss:0.0458\n",
            "Epoch[4/5],step[500/600],Loss:0.0123\n",
            "Epoch[4/5],step[600/600],Loss:0.0322\n",
            "Epoch[5/5],step[100/600],Loss:0.0268\n",
            "Epoch[5/5],step[200/600],Loss:0.0597\n",
            "Epoch[5/5],step[300/600],Loss:0.0174\n",
            "Epoch[5/5],step[400/600],Loss:0.0384\n",
            "Epoch[5/5],step[500/600],Loss:0.0105\n",
            "Epoch[5/5],step[600/600],Loss:0.0103\n"
          ]
        }
      ]
    },
    {
      "cell_type": "code",
      "source": [
        "#Test the model \n",
        "#in the test phase,we dont need to compute gradients (for memory efficiency)\n",
        "with torch.no_grad():\n",
        "    correct=0\n",
        "    total=0\n",
        "    for images,labels in test_loader:\n",
        "        images=images.reshape(-1,28*28).to(device)\n",
        "        labels=labels.to(device)\n",
        "        outputs=model(images)\n",
        "        _,predicted=torch.max(outputs.data,1)\n",
        "        total +=labels.size(0)\n",
        "        correct +=(predicted==labels).sum().item()\n",
        "    print('Accuracy of the network on the 10000 test images:{}%'.format(100*correct/total))    "
      ],
      "metadata": {
        "id": "kYE06wez4X-w",
        "colab": {
          "base_uri": "https://localhost:8080/"
        },
        "outputId": "81424001-234d-4de0-b3e2-4ef26bf923e3"
      },
      "execution_count": 10,
      "outputs": [
        {
          "output_type": "stream",
          "name": "stdout",
          "text": [
            "Accuracy of the network on the 10000 test images:97.91%\n"
          ]
        }
      ]
    },
    {
      "cell_type": "code",
      "source": [],
      "metadata": {
        "id": "uap5QHiW3EgG"
      },
      "execution_count": null,
      "outputs": []
    }
  ]
}