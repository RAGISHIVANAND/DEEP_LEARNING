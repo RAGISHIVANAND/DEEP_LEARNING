{
  "nbformat": 4,
  "nbformat_minor": 0,
  "metadata": {
    "colab": {
      "provenance": [],
      "authorship_tag": "ABX9TyPpArvFo6d6LITIoj2kSWM/",
      "include_colab_link": true
    },
    "kernelspec": {
      "name": "python3",
      "display_name": "Python 3"
    },
    "language_info": {
      "name": "python"
    }
  },
  "cells": [
    {
      "cell_type": "markdown",
      "metadata": {
        "id": "view-in-github",
        "colab_type": "text"
      },
      "source": [
        "<a href=\"https://colab.research.google.com/github/RAGISHIVANAND/DEEP_LEARNING/blob/main/pytorch_Artificial_neural_networks.ipynb\" target=\"_parent\"><img src=\"https://colab.research.google.com/assets/colab-badge.svg\" alt=\"Open In Colab\"/></a>"
      ]
    },
    {
      "cell_type": "markdown",
      "source": [
        "# ***Importing the necessary libraries***"
      ],
      "metadata": {
        "id": "P9ZuqcH3HhH3"
      }
    },
    {
      "cell_type": "code",
      "execution_count": 1,
      "metadata": {
        "id": "AG8buzQFHYj6"
      },
      "outputs": [],
      "source": [
        "import torch\n",
        "import torch.nn as nn\n",
        "import torchvision\n",
        "import torchvision.transforms as transforms"
      ]
    },
    {
      "cell_type": "code",
      "source": [
        "#device configuration\n",
        "device=torch.device('cuda' if torch.cuda.is_available() else 'cpu')\n",
        "\n",
        "#Hyper_parameters\n",
        "input_size = 784\n",
        "hidden_size = 500\n",
        "num_classes = 10\n",
        "num_epochs = 5\n",
        "batch_size = 100\n",
        "learning_rate=0.001"
      ],
      "metadata": {
        "id": "vWcUXDTOIOZA"
      },
      "execution_count": 2,
      "outputs": []
    },
    {
      "cell_type": "code",
      "source": [
        "#MNIST dataset\n",
        "train_dataset = torchvision.datasets.MNIST(root='inputdata',\n",
        "                                           train=True,\n",
        "                                           transform = transforms.ToTensor(),\n",
        "                                           download=True)\n",
        "test_dataset= torchvision.datasets.MNIST(root='inputdata',\n",
        "                                           train=False,\n",
        "                                           transform=transforms.ToTensor())\n",
        "#Dataloader\n",
        "train_loader=   torch.utils.data.DataLoader(dataset=train_dataset,\n",
        "                                            batch_size=batch_size,\n",
        "                                            shuffle=True)\n",
        "test_loader=torch.utils.data.DataLoader(dataset=test_dataset,\n",
        "                                        batch_size=batch_size,\n",
        "                                        shuffle=False)"
      ],
      "metadata": {
        "id": "wxI8RtjTLOIu",
        "colab": {
          "base_uri": "https://localhost:8080/"
        },
        "outputId": "5d83309c-a026-4632-c35c-f1c830af8a00"
      },
      "execution_count": 3,
      "outputs": [
        {
          "output_type": "stream",
          "name": "stdout",
          "text": [
            "Downloading http://yann.lecun.com/exdb/mnist/train-images-idx3-ubyte.gz\n",
            "Downloading http://yann.lecun.com/exdb/mnist/train-images-idx3-ubyte.gz to inputdata/MNIST/raw/train-images-idx3-ubyte.gz\n"
          ]
        },
        {
          "output_type": "stream",
          "name": "stderr",
          "text": [
            "100%|██████████| 9912422/9912422 [00:00<00:00, 87195917.95it/s]\n"
          ]
        },
        {
          "output_type": "stream",
          "name": "stdout",
          "text": [
            "Extracting inputdata/MNIST/raw/train-images-idx3-ubyte.gz to inputdata/MNIST/raw\n",
            "\n",
            "Downloading http://yann.lecun.com/exdb/mnist/train-labels-idx1-ubyte.gz\n",
            "Downloading http://yann.lecun.com/exdb/mnist/train-labels-idx1-ubyte.gz to inputdata/MNIST/raw/train-labels-idx1-ubyte.gz\n"
          ]
        },
        {
          "output_type": "stream",
          "name": "stderr",
          "text": [
            "100%|██████████| 28881/28881 [00:00<00:00, 82293270.26it/s]"
          ]
        },
        {
          "output_type": "stream",
          "name": "stdout",
          "text": [
            "Extracting inputdata/MNIST/raw/train-labels-idx1-ubyte.gz to inputdata/MNIST/raw\n",
            "\n",
            "Downloading http://yann.lecun.com/exdb/mnist/t10k-images-idx3-ubyte.gz\n",
            "Downloading http://yann.lecun.com/exdb/mnist/t10k-images-idx3-ubyte.gz to inputdata/MNIST/raw/t10k-images-idx3-ubyte.gz\n"
          ]
        },
        {
          "output_type": "stream",
          "name": "stderr",
          "text": [
            "\n",
            "100%|██████████| 1648877/1648877 [00:00<00:00, 24818474.90it/s]\n"
          ]
        },
        {
          "output_type": "stream",
          "name": "stdout",
          "text": [
            "Extracting inputdata/MNIST/raw/t10k-images-idx3-ubyte.gz to inputdata/MNIST/raw\n",
            "\n",
            "Downloading http://yann.lecun.com/exdb/mnist/t10k-labels-idx1-ubyte.gz\n",
            "Downloading http://yann.lecun.com/exdb/mnist/t10k-labels-idx1-ubyte.gz to inputdata/MNIST/raw/t10k-labels-idx1-ubyte.gz\n"
          ]
        },
        {
          "output_type": "stream",
          "name": "stderr",
          "text": [
            "100%|██████████| 4542/4542 [00:00<00:00, 13378180.31it/s]"
          ]
        },
        {
          "output_type": "stream",
          "name": "stdout",
          "text": [
            "Extracting inputdata/MNIST/raw/t10k-labels-idx1-ubyte.gz to inputdata/MNIST/raw\n",
            "\n"
          ]
        },
        {
          "output_type": "stream",
          "name": "stderr",
          "text": [
            "\n"
          ]
        }
      ]
    },
    {
      "cell_type": "code",
      "source": [
        "#FULLY CONNECTED NEURAL NETWORK WITH ONE HIDDEN LAYER\n",
        "class NeuralNet(nn.Module):\n",
        "    def __init__(self,input_size,hidden_size,num_classes):\n",
        "        super(NeuralNet,self).__init__()\n",
        "        self.fc1=nn.Linear(input_size,hidden_size)\n",
        "        self.relu = nn.ReLU()\n",
        "        self.fc2=nn.Linear(hidden_size,num_classes)\n",
        "    def forward(self,x):\n",
        "        out = self.fc1(x)\n",
        "        out = self.relu(out)\n",
        "        out = self.fc2(out)\n",
        "        return out    "
      ],
      "metadata": {
        "id": "ga-6IKhXZ86i"
      },
      "execution_count": 4,
      "outputs": []
    },
    {
      "cell_type": "code",
      "source": [
        "model = NeuralNet(input_size,hidden_size,num_classes).to(device)\n",
        "\n",
        "#Loss and optimizer\n",
        "criterion = nn.CrossEntropyLoss()\n",
        "optimizer = torch.optim.Adam(model.parameters(),lr=learning_rate)"
      ],
      "metadata": {
        "id": "8DhTIn1nvwJw"
      },
      "execution_count": 5,
      "outputs": []
    },
    {
      "cell_type": "code",
      "source": [
        "#Train the model\n",
        "total_step = len(train_loader)\n",
        "for epoch in range (num_epochs):\n",
        "    for i,(images,labels) in enumerate(train_loader):\n",
        "        #Move tensors to the configured device\n",
        "        images = images.reshape(-1,28*28).to(device)\n",
        "        labels=labels.to(device)\n",
        "\n",
        "        #Forward pass\n",
        "        outputs = model(images)\n",
        "        loss = criterion(outputs,labels)\n",
        "\n",
        "        #Backward and optimize\n",
        "        optimizer.zero_grad()\n",
        "        loss.backward()\n",
        "        optimizer.step()\n",
        "\n",
        "        if(i+1)% 100 == 0:\n",
        "           print('Epoch[{}/{}],step[{}/{}],Loss:{:.4f}'\n",
        "                 .format(epoch+1,num_epochs,i+1,total_step,loss.item()))\n"
      ],
      "metadata": {
        "colab": {
          "base_uri": "https://localhost:8080/"
        },
        "id": "f1YipJP2vxSo",
        "outputId": "2e09c362-daab-47f6-f493-5a386e6571c4"
      },
      "execution_count": 6,
      "outputs": [
        {
          "output_type": "stream",
          "name": "stdout",
          "text": [
            "Epoch[1/5],step[100/600],Loss:0.3251\n",
            "Epoch[1/5],step[200/600],Loss:0.2649\n",
            "Epoch[1/5],step[300/600],Loss:0.1746\n",
            "Epoch[1/5],step[400/600],Loss:0.2375\n",
            "Epoch[1/5],step[500/600],Loss:0.1937\n",
            "Epoch[1/5],step[600/600],Loss:0.1995\n",
            "Epoch[2/5],step[100/600],Loss:0.1744\n",
            "Epoch[2/5],step[200/600],Loss:0.1383\n",
            "Epoch[2/5],step[300/600],Loss:0.0950\n",
            "Epoch[2/5],step[400/600],Loss:0.1054\n",
            "Epoch[2/5],step[500/600],Loss:0.1615\n",
            "Epoch[2/5],step[600/600],Loss:0.2185\n",
            "Epoch[3/5],step[100/600],Loss:0.0626\n",
            "Epoch[3/5],step[200/600],Loss:0.1105\n",
            "Epoch[3/5],step[300/600],Loss:0.0387\n",
            "Epoch[3/5],step[400/600],Loss:0.1906\n",
            "Epoch[3/5],step[500/600],Loss:0.0414\n",
            "Epoch[3/5],step[600/600],Loss:0.0361\n",
            "Epoch[4/5],step[100/600],Loss:0.0194\n",
            "Epoch[4/5],step[200/600],Loss:0.0652\n",
            "Epoch[4/5],step[300/600],Loss:0.1431\n",
            "Epoch[4/5],step[400/600],Loss:0.0233\n",
            "Epoch[4/5],step[500/600],Loss:0.1024\n",
            "Epoch[4/5],step[600/600],Loss:0.0714\n",
            "Epoch[5/5],step[100/600],Loss:0.0640\n",
            "Epoch[5/5],step[200/600],Loss:0.0266\n",
            "Epoch[5/5],step[300/600],Loss:0.0767\n",
            "Epoch[5/5],step[400/600],Loss:0.0392\n",
            "Epoch[5/5],step[500/600],Loss:0.0226\n",
            "Epoch[5/5],step[600/600],Loss:0.0342\n"
          ]
        }
      ]
    },
    {
      "cell_type": "code",
      "source": [
        "#Test the model \n",
        "#in the test phase,we dont need to compute gradients (for memory efficiency)\n",
        "with torch.no_grad():\n",
        "    correct=0\n",
        "    total=0\n",
        "    for images,labels in test_loader:\n",
        "        images=images.reshape(-1,28*28).to(device)\n",
        "        labels=labels.to(device)\n",
        "        outputs=model(images)\n",
        "        _,predicted=torch.max(outputs.data,1)\n",
        "        total +=labels.size(0)\n",
        "        correct +=(predicted==labels).sum().item()\n",
        "    print('Accuracy of the network on the 10000 test images:{}%'.format(100*correct/total))    "
      ],
      "metadata": {
        "id": "kYE06wez4X-w",
        "colab": {
          "base_uri": "https://localhost:8080/"
        },
        "outputId": "578933d6-8bdf-427e-aef7-7bbfed79c221"
      },
      "execution_count": 8,
      "outputs": [
        {
          "output_type": "stream",
          "name": "stdout",
          "text": [
            "Accuracy of the network on the 10000 test images:97.88%\n"
          ]
        }
      ]
    },
    {
      "cell_type": "code",
      "source": [],
      "metadata": {
        "id": "uap5QHiW3EgG"
      },
      "execution_count": 7,
      "outputs": []
    }
  ]
}