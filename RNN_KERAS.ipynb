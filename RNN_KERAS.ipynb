{
  "nbformat": 4,
  "nbformat_minor": 0,
  "metadata": {
    "colab": {
      "provenance": [],
      "authorship_tag": "ABX9TyMRZuLvlsufh2rQFeTXBcGm",
      "include_colab_link": true
    },
    "kernelspec": {
      "name": "python3",
      "display_name": "Python 3"
    },
    "language_info": {
      "name": "python"
    }
  },
  "cells": [
    {
      "cell_type": "markdown",
      "metadata": {
        "id": "view-in-github",
        "colab_type": "text"
      },
      "source": [
        "<a href=\"https://colab.research.google.com/github/RAGISHIVANAND/DEEP_LEARNING/blob/main/RNN_KERAS.ipynb\" target=\"_parent\"><img src=\"https://colab.research.google.com/assets/colab-badge.svg\" alt=\"Open In Colab\"/></a>"
      ]
    },
    {
      "cell_type": "code",
      "execution_count": 33,
      "metadata": {
        "id": "P7V6oEJyrfpL"
      },
      "outputs": [],
      "source": [
        "from pandas import read_csv\n",
        "import numpy as np\n",
        "from keras.models import Sequential\n",
        "from keras.layers import Dense,SimpleRNN\n",
        "from sklearn.preprocessing import MinMaxScaler\n",
        "from sklearn.metrics import mean_squared_error\n",
        "import math\n",
        "import matplotlib.pyplot as plt"
      ]
    },
    {
      "cell_type": "code",
      "source": [
        "def create_RNN(hidden_units,dense_units,input_shape,activation):\n",
        "    model = Sequential()\n",
        "    model.add(SimpleRNN(hidden_units,input_shape=input_shape,activation=activation[0]))\n",
        "    model.add(Dense(units=dense_units,activation=activation[1]))\n",
        "    model.compile(loss='mean_squared_error',optimizer='adam')\n",
        "    return model\n",
        "demo_model=create_RNN(2, 1, (3,1), activation=['linear','linear'])"
      ],
      "metadata": {
        "id": "TwbYl7f0twsg"
      },
      "execution_count": 34,
      "outputs": []
    },
    {
      "cell_type": "code",
      "source": [
        "print(demo_model.get_weights())\n",
        "wx=demo_model.get_weights()[0]\n",
        "wh=demo_model.get_weights()[1]\n",
        "bh=demo_model.get_weights()[2]\n",
        "wy=demo_model.get_weights()[3]\n",
        "by=demo_model.get_weights()[4]\n",
        "print('wx= ', wx,'wh= ', wh,'bh= ', bh,'wy= ', wy,'by= ',by)"
      ],
      "metadata": {
        "colab": {
          "base_uri": "https://localhost:8080/"
        },
        "id": "vhqL54HgxnJN",
        "outputId": "134e7b4d-5ed0-43d2-bafe-8ac93b94ca3e"
      },
      "execution_count": 35,
      "outputs": [
        {
          "output_type": "stream",
          "name": "stdout",
          "text": [
            "[array([[ 1.269339 , -1.1527762]], dtype=float32), array([[-0.8983964 , -0.43918547],\n",
            "       [ 0.43918547, -0.89839643]], dtype=float32), array([0., 0.], dtype=float32), array([[0.5184349 ],\n",
            "       [0.65283215]], dtype=float32), array([0.], dtype=float32)]\n",
            "wx=  [[ 1.269339  -1.1527762]] wh=  [[-0.8983964  -0.43918547]\n",
            " [ 0.43918547 -0.89839643]] bh=  [0. 0.] wy=  [[0.5184349 ]\n",
            " [0.65283215]] by=  [0.]\n"
          ]
        }
      ]
    },
    {
      "cell_type": "code",
      "source": [
        "x=np.array([1,2,3])\n",
        "#reshape the input to the required sample_size x time_steps x features\n",
        "x_input=np.reshape(x,(1, 3, 1))\n",
        "print(x_input)\n",
        "\n",
        "y_pred_model=demo_model.predict(x_input)\n",
        "\n",
        "m=2\n",
        "h0=np.zeros(m)\n",
        "h1=np.dot(x[0], wx)+ h0+ bh\n",
        "h2=np.dot(x[1], wx)+ np.dot(h1,wh)+ bh\n",
        "h3=np.dot(x[2], wx)+ np.dot(h2,wh)+ bh\n",
        "o3=np.dot(h3, wy)+by\n",
        "\n",
        "print('h1= ', h1,'h2= ', h2,'h3= ', h3)\n",
        "print(\"Prediction from network\",y_pred_model)\n",
        "print(\"Prediction from our computation\",o3)\n"
      ],
      "metadata": {
        "id": "4FodpS533Fxw",
        "colab": {
          "base_uri": "https://localhost:8080/"
        },
        "outputId": "302d07ce-d4a9-421e-8fc6-da9d44b1fa9e"
      },
      "execution_count": 36,
      "outputs": [
        {
          "output_type": "stream",
          "name": "stdout",
          "text": [
            "[[[1]\n",
            "  [2]\n",
            "  [3]]]\n",
            "1/1 [==============================] - 0s 304ms/step\n",
            "h1=  [[ 1.26933897 -1.15277624]] h2=  [[ 0.89202583 -1.82737765]] h3=  [[ 2.20406641 -2.20838395]]\n",
            "Prediction from network [[-0.29903936]]\n",
            "Prediction from our computation [[-0.29903913]]\n"
          ]
        }
      ]
    },
    {
      "cell_type": "code",
      "source": [],
      "metadata": {
        "id": "TgnrE0TfaeOg"
      },
      "execution_count": null,
      "outputs": []
    }
  ]
}