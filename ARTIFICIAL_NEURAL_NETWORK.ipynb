{
  "nbformat": 4,
  "nbformat_minor": 0,
  "metadata": {
    "colab": {
      "provenance": [],
      "authorship_tag": "ABX9TyMv8kXBctcPotNGbf2McnUS",
      "include_colab_link": true
    },
    "kernelspec": {
      "name": "python3",
      "display_name": "Python 3"
    },
    "language_info": {
      "name": "python"
    }
  },
  "cells": [
    {
      "cell_type": "markdown",
      "metadata": {
        "id": "view-in-github",
        "colab_type": "text"
      },
      "source": [
        "<a href=\"https://colab.research.google.com/github/RAGISHIVANAND/DEEP_LEARNING/blob/main/ARTIFICIAL_NEURAL_NETWORK.ipynb\" target=\"_parent\"><img src=\"https://colab.research.google.com/assets/colab-badge.svg\" alt=\"Open In Colab\"/></a>"
      ]
    },
    {
      "cell_type": "markdown",
      "source": [
        "# **Importing necessary libraries**"
      ],
      "metadata": {
        "id": "z2jdCbeAbRsW"
      }
    },
    {
      "cell_type": "code",
      "execution_count": null,
      "metadata": {
        "id": "L12mNsTWatYj"
      },
      "outputs": [],
      "source": [
        "import tensorflow as tf\n",
        "import numpy as np"
      ]
    },
    {
      "cell_type": "markdown",
      "source": [
        "## **Importing a data set**"
      ],
      "metadata": {
        "id": "qQos_pr_bY8o"
      }
    },
    {
      "cell_type": "code",
      "source": [
        "from tensorflow.keras.datasets import mnist\n",
        "(x_train,y_train),(x_test,y_test) = mnist.load_data()"
      ],
      "metadata": {
        "id": "UgQJLSq7bN0x"
      },
      "execution_count": null,
      "outputs": []
    },
    {
      "cell_type": "markdown",
      "source": [
        "## ***Creating a batch beacause there are a lot of images here***"
      ],
      "metadata": {
        "id": "aDk1jDoMhjIm"
      }
    },
    {
      "cell_type": "code",
      "source": [
        "def get_batch(x_data,y_data,batch_size):\n",
        "  idxs = np.random.randint(0,len(y_data),batch_size)\n",
        "  return x_data[idxs,:,:],y_data[idxs]"
      ],
      "metadata": {
        "id": "dCpM8eb0dJcF"
      },
      "execution_count": null,
      "outputs": []
    },
    {
      "cell_type": "markdown",
      "source": [
        "## ***CREATING THE PRE PROCESSING MODEL***"
      ],
      "metadata": {
        "id": "cEuIPA8i1kkS"
      }
    },
    {
      "cell_type": "code",
      "source": [
        "#python optimization variables\n",
        "epochs = 10\n",
        "batch_size = 100\n",
        "\n",
        "#normalize the input images by dividing by 255.0\n",
        "x_train = x_train/255.0\n",
        "x_test = x_test/255.0\n",
        "\n",
        "#convert x_test to tensor to pass through model (traindata will be converted to tensors on the fly)\n",
        "x_test = tf.Variable(x_test)\n",
        "\n",
        "#now declare the weights connecting the input to the hidden layer\n",
        "w1 = tf.Variable(tf.random.normal([784,300],stddev=0.03),name='w1')\n",
        "b1 = tf.Variable(tf.random.normal([300]),name='b1')\n",
        "\n",
        "#and the weights connecting the hidden layer to the output layer\n",
        "w2=tf.Variable(tf.random.normal([300,10],stddev=0.03),name='w2')\n",
        "b2 = tf.Variable(tf.random.normal([10]),name='b2')"
      ],
      "metadata": {
        "id": "bdtkfPa1iGXM"
      },
      "execution_count": null,
      "outputs": []
    },
    {
      "cell_type": "markdown",
      "source": [
        "# **CREATING A NEURAL NETWORK MODEL**"
      ],
      "metadata": {
        "id": "KB9QN0O62E6I"
      }
    },
    {
      "cell_type": "code",
      "source": [
        "def nn_model(x_input,w1,b1,w2,b2):\n",
        "    #flatten the input image from 28×28 to 784\n",
        "    x_input = tf.reshape(x_input,(x_input.shape[0],-1))\n",
        "    x=tf.add(tf.matmul(tf.cast(x_input,tf.float32),w1),b1)\n",
        "    x=tf.nn.relu(x)\n",
        "    logits = tf.add(tf.matmul(x,w2),b2)\n",
        "    return logits\n",
        "\n",
        "def loss_fn(logits,labels):\n",
        "    cross_entropy=tf.reduce_mean(tf.nn.softmax_cross_entropy_with_logits(labels=labels,logits=logits))\n",
        "    return cross_entropy \n",
        "  "
      ],
      "metadata": {
        "id": "N_1Y2De9OuMD"
      },
      "execution_count": null,
      "outputs": []
    },
    {
      "cell_type": "code",
      "source": [
        "# setup the optimizer\n",
        "optimizer = tf.keras.optimizers.Adam()\n",
        "\n",
        "total_batch = int(len(y_train)/batch_size)\n",
        "for epoch in range(epochs):\n",
        "    avg_loss = 0\n",
        "    for i in range (total_batch):\n",
        "        batch_x, batch_y = get_batch(x_train, y_train, batch_size=batch_size)\n",
        "\n",
        "        # create tensors\n",
        "        batch_x = tf .Variable(batch_x)\n",
        "        batch_y = tf .Variable(batch_y)\n",
        "\n",
        "        # create a one hot vector\n",
        "        batch_y = tf.one_hot(batch_y, 10)\n",
        "        with tf.GradientTape() as tape:\n",
        "            logits = nn_model (batch_x, w1, b1, w2, b2)\n",
        "            loss = loss_fn(logits, batch_y)\n",
        "        gradients = tape.gradient(loss, [w1, b1, w2, b2])\n",
        "        optimizer. apply_gradients(zip(gradients, [w1, b1, w2, b2]))\n",
        "        avg_loss += loss / total_batch\n",
        "    test_logits = nn_model (x_test, w1, b1, w2, b2)\n",
        "    max_idxs = tf.argmax(test_logits, axis=1)\n",
        "    test_acc = np.sum(max_idxs.numpy() == y_test) / len(y_test)\n",
        "    print(f\"Epoch: {epoch + 1}, loss={avg_loss:3f}, test set accuracy={test_acc*100:3f}%\")\n",
        "\n",
        "print(\"\\nTraining completel\")"
      ],
      "metadata": {
        "colab": {
          "base_uri": "https://localhost:8080/"
        },
        "id": "31yzHYSRBTuW",
        "outputId": "3b94d5a7-84f3-4b57-a5d0-7a596710bf80"
      },
      "execution_count": null,
      "outputs": [
        {
          "output_type": "stream",
          "name": "stdout",
          "text": [
            "Epoch: 1, loss=0.381771, test set accuracy=93.920000%\n",
            "Epoch: 2, loss=0.163877, test set accuracy=95.990000%\n",
            "Epoch: 3, loss=0.108015, test set accuracy=96.490000%\n",
            "Epoch: 4, loss=0.076372, test set accuracy=97.130000%\n",
            "Epoch: 5, loss=0.059785, test set accuracy=97.480000%\n",
            "Epoch: 6, loss=0.048458, test set accuracy=97.640000%\n",
            "Epoch: 7, loss=0.039655, test set accuracy=97.710000%\n",
            "Epoch: 8, loss=0.032633, test set accuracy=97.800000%\n",
            "Epoch: 9, loss=0.024089, test set accuracy=98.000000%\n",
            "Epoch: 10, loss=0.020861, test set accuracy=97.960000%\n",
            "\n",
            "Training completel\n"
          ]
        }
      ]
    },
    {
      "cell_type": "code",
      "source": [],
      "metadata": {
        "id": "mAxP_epORX0E"
      },
      "execution_count": null,
      "outputs": []
    }
  ]
}